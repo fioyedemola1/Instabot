{
 "metadata": {
  "language_info": {
   "codemirror_mode": {
    "name": "ipython",
    "version": 3
   },
   "file_extension": ".py",
   "mimetype": "text/x-python",
   "name": "python",
   "nbconvert_exporter": "python",
   "pygments_lexer": "ipython3",
   "version": "3.8.5"
  },
  "orig_nbformat": 2,
  "kernelspec": {
   "name": "python385jvsc74a57bd057afa3c55199372cc74ce95ef8abe2f2d30a7accba4b0a9ba7456fa3ad07924a",
   "display_name": "Python 3.8.5 64-bit ('base': conda)"
  }
 },
 "nbformat": 4,
 "nbformat_minor": 2,
 "cells": [
  {
   "cell_type": "code",
   "execution_count": 61,
   "metadata": {},
   "outputs": [
    {
     "output_type": "stream",
     "name": "stdout",
     "text": [
      "Ade first\ndoe\n10\nm\nmanager fourth\n"
     ]
    }
   ],
   "source": [
    "first_name = 'john'\n",
    "last_name = 'doe'\n",
    "age = 10\n",
    "gender = 'm'\n",
    "position = 'Manger'\n",
    "\n",
    "\n",
    "# list  [] or list()\n",
    "\n",
    "\n",
    "\n",
    "Employee1 = ['john', 'doe',10,'m', 'manager'] # list\n",
    "Employee2 = ['Jane', 'Sanders',12,'f', 'Ass. Manager'] # list\n",
    "Employee3 = list() # list\n",
    "\n",
    "# mutable and iterable\n",
    "Employee1[0] = 'Ade'\n",
    "print(Employee1[0], 'first')\n",
    "print(Employee1[1])\n",
    "print(Employee1[2])\n",
    "print(Employee1[3])\n",
    "print(Employee1[4], 'fourth')\n",
    "\n",
    "\n",
    "Employee3.append('peter')\n",
    "Employee3.append('samuel')\n",
    "Employee3.append(9)\n",
    "Employee3.append('u')\n",
    "Employee3.append('contract')\n",
    "# for index, value in enumerate(Employee1):\n",
    "#     # print(index, value)\n",
    "#     print(Employee1[index], index)\n"
   ]
  },
  {
   "cell_type": "code",
   "execution_count": 21,
   "metadata": {},
   "outputs": [],
   "source": [
    "# all_employees = [Employee1,Employee2,Employee3]\n",
    "all_employees2= []\n",
    "all_employees2.append(Employee1)\n",
    "all_employees2.append(Employee2)\n",
    "all_employees2.append(Employee3)"
   ]
  },
  {
   "cell_type": "code",
   "execution_count": 24,
   "metadata": {},
   "outputs": [
    {
     "output_type": "execute_result",
     "data": {
      "text/plain": [
       "[['Ade', 'doe', 10, 'm', 'manager'],\n",
       " ['Jane', 'Sanders', 12, 'f', 'Ass. Manager'],\n",
       " ['peter', 'samuel', 9, 'u', 'contract'],\n",
       " [['Ade', 'doe', 10, 'm', 'manager'],\n",
       "  ['Jane', 'Sanders', 12, 'f', 'Ass. Manager'],\n",
       "  ['peter', 'samuel', 9, 'u', 'contract']],\n",
       " [['Ade', 'doe', 10, 'm', 'manager'],\n",
       "  ['Jane', 'Sanders', 12, 'f', 'Ass. Manager'],\n",
       "  ['peter', 'samuel', 9, 'u', 'contract']]]"
      ]
     },
     "metadata": {},
     "execution_count": 24
    }
   ],
   "source": [
    "all_employees2.append([Employee1,Employee2,Employee3])\n",
    "all_employees2"
   ]
  },
  {
   "cell_type": "code",
   "execution_count": 28,
   "metadata": {},
   "outputs": [
    {
     "output_type": "stream",
     "name": "stdout",
     "text": [
      "checking for 4\nchecking for 4\nchecking for 4\nchecking for 4\nstop\n"
     ]
    }
   ],
   "source": [
    "numbers = [4,2,3,1,5]\n",
    "for i in numbers:\n",
    "    print('checking for 4')\n",
    "    if i == 4:\n",
    "        print('stop')\n",
    "        break"
   ]
  },
  {
   "cell_type": "code",
   "execution_count": 29,
   "metadata": {},
   "outputs": [
    {
     "output_type": "execute_result",
     "data": {
      "text/plain": [
       "'this value'"
      ]
     },
     "metadata": {},
     "execution_count": 29
    }
   ],
   "source": [
    "# equality   == / is  \n",
    "# assignment =\n",
    "vairable = 1\n",
    "vairable"
   ]
  },
  {
   "cell_type": "code",
   "execution_count": 41,
   "metadata": {},
   "outputs": [],
   "source": [
    "# import time\n",
    "\n",
    "# larg_100 = [x for x in range(0,100000000000)]\n",
    "\n",
    "# start = time.perf_counter()\n",
    "\n",
    "# for i in numbers:\n",
    "#     if i == 5000:\n",
    "#         print('stop')\n",
    "#         break\n",
    "\n",
    "# end = time.perf_counter()\n",
    "# print(end- start)"
   ]
  },
  {
   "cell_type": "code",
   "execution_count": 42,
   "metadata": {},
   "outputs": [],
   "source": [
    "Dict_employee = {} # key: value\n",
    "mydict2 = dict()"
   ]
  },
  {
   "cell_type": "code",
   "execution_count": 43,
   "metadata": {},
   "outputs": [],
   "source": [
    "Dict_employee['first_name'] = 'John'\n",
    "Dict_employee['last_name'] = 'doe'\n",
    "Dict_employee['age'] = 10\n",
    "Dict_employee['gender'] = 'm'\n",
    "Dict_employee['position'] = 'Manager'"
   ]
  },
  {
   "cell_type": "code",
   "execution_count": 51,
   "metadata": {},
   "outputs": [
    {
     "output_type": "execute_result",
     "data": {
      "text/plain": [
       "'m'"
      ]
     },
     "metadata": {},
     "execution_count": 51
    }
   ],
   "source": [
    "# Dict_employee['gender']\n"
   ]
  },
  {
   "cell_type": "code",
   "execution_count": 53,
   "metadata": {},
   "outputs": [
    {
     "output_type": "stream",
     "name": "stdout",
     "text": [
      "96\n232\n"
     ]
    }
   ],
   "source": [
    "# paradox speed and memory\n",
    "import sys\n",
    "print(sys.getsizeof(Employee1)) # list\n",
    "print(sys.getsizeof(Dict_employee))\n"
   ]
  },
  {
   "cell_type": "code",
   "execution_count": 56,
   "metadata": {},
   "outputs": [],
   "source": [
    "# immutablity\n",
    "Employee1[0] = 'Sandy'"
   ]
  },
  {
   "cell_type": "code",
   "execution_count": 72,
   "metadata": {},
   "outputs": [],
   "source": [
    "# tuple \n",
    "Employee1_tup = tuple(['john', 'doe',10,'m', 'manager'])\n",
    "Employee2_tup = ()\n",
    "# print(help(Employee2_tup))\n",
    "\n",
    "# tuple vs List"
   ]
  },
  {
   "cell_type": "code",
   "execution_count": 66,
   "metadata": {},
   "outputs": [
    {
     "output_type": "stream",
     "name": "stdout",
     "text": [
      "Ade\njohn\n"
     ]
    }
   ],
   "source": [
    "print(Employee1[0])\n",
    "print(Employee1_tup[0])"
   ]
  },
  {
   "cell_type": "code",
   "execution_count": 74,
   "metadata": {},
   "outputs": [
    {
     "output_type": "execute_result",
     "data": {
      "text/plain": [
       "5"
      ]
     },
     "metadata": {},
     "execution_count": 74
    }
   ],
   "source": [
    "Employee = ['Ade', 'Ade', 'Sandy', 'Sussan', 'jane']\n",
    "len(Employee)"
   ]
  },
  {
   "cell_type": "code",
   "execution_count": 78,
   "metadata": {},
   "outputs": [],
   "source": [
    "# Set. Helps from storing duplicates\n",
    "Employee_set = set(['Ade', 'Ade', 'Sandy', 'Sussan', 'jane'])\n",
    "Employee2_set = set(['jane', 'Ade', 'mandy', 'Sussan', 'romeo'])"
   ]
  },
  {
   "cell_type": "code",
   "execution_count": 79,
   "metadata": {},
   "outputs": [
    {
     "output_type": "execute_result",
     "data": {
      "text/plain": [
       "{'Ade', 'Sandy', 'Sussan', 'jane', 'mandy', 'romeo'}"
      ]
     },
     "metadata": {},
     "execution_count": 79
    }
   ],
   "source": [
    "Employee_set| Employee2_set"
   ]
  },
  {
   "cell_type": "code",
   "execution_count": 97,
   "metadata": {},
   "outputs": [],
   "source": [
    "# oop.  using state\n",
    "\n",
    "class Employee:\n",
    "    # contructor \n",
    "    def __init__(self,first_name,last_name,age,gender,position ):\n",
    "        self.first_name=first_name\n",
    "        self.last_name=last_name\n",
    "        self.age=age\n",
    "        self.gender=gender\n",
    "        self.position=position\n",
    "    \n",
    "    def email(self):\n",
    "        return f'{self.first_name}.{self.last_name}@company.com'\n",
    "    "
   ]
  },
  {
   "cell_type": "code",
   "execution_count": 100,
   "metadata": {},
   "outputs": [],
   "source": [
    "employee1 = Employee('ade','sam', 10,'m','manager')\n",
    "employee2 = Employee('sande','sajamesm', 20,'u','contractor')\n",
    "employeexx = Employee('ade','sam', 10,'m','manager')\n",
    "employee1 = Employee('ade','sam', 10,'m','manager')\n",
    "employee1 = Employee('ade','sam', 10,'m','manager')\n",
    "employee1 = Employee('ade','sam', 10,'m','manager')"
   ]
  },
  {
   "cell_type": "code",
   "execution_count": 101,
   "metadata": {},
   "outputs": [
    {
     "output_type": "execute_result",
     "data": {
      "text/plain": [
       "'sande.sajamesm@company.com'"
      ]
     },
     "metadata": {},
     "execution_count": 101
    }
   ],
   "source": [
    "employee2.email()"
   ]
  },
  {
   "cell_type": "code",
   "execution_count": 96,
   "metadata": {},
   "outputs": [],
   "source": [
    "# store list in tuple\n",
    "# tuple in list\n",
    "# list in dictionary\n",
    "# tuple in dictionary"
   ]
  },
  {
   "cell_type": "code",
   "execution_count": null,
   "metadata": {},
   "outputs": [],
   "source": [
    "# Python operators\n",
    "+  #addition\n",
    "-  #minus\n",
    "*  # multiplication\n",
    "/  # division\n",
    "// \n",
    "%\n",
    ">\n",
    "<\n",
    "<=\n",
    "**\n",
    "!=\n",
    "==\n",
    "=>\n"
   ]
  },
  {
   "cell_type": "code",
   "execution_count": 113,
   "metadata": {},
   "outputs": [],
   "source": [
    "a = 11\n",
    "b = 5\n"
   ]
  },
  {
   "cell_type": "code",
   "execution_count": 115,
   "metadata": {},
   "outputs": [
    {
     "output_type": "stream",
     "name": "stdout",
     "text": [
      "16 add\n6 minus\n55 multiply\n2.2 divide\n2 ?\n1 modulo\n161051 modulo\n"
     ]
    }
   ],
   "source": [
    "print(a + b , 'add')\n",
    "print(a - b , 'minus')\n",
    "print(a * b , 'multiply')\n",
    "print(a / b , 'divide')\n",
    "print(a // b , '?') #returns value before \n",
    "print(a % b , 'modulo') #<-- after the decimal\n",
    "print(a ** b , 'power of') #<-- after the decimal"
   ]
  },
  {
   "cell_type": "code",
   "execution_count": 123,
   "metadata": {},
   "outputs": [],
   "source": [
    "# item_list = [1,2,3,4,5,6,7]\n",
    "value = 'odd' if 1 % 2 != 0 else 'even'\n",
    "value"
   ]
  },
  {
   "cell_type": "code",
   "execution_count": 124,
   "metadata": {},
   "outputs": [
    {
     "output_type": "execute_result",
     "data": {
      "text/plain": [
       "'odd'"
      ]
     },
     "metadata": {},
     "execution_count": 124
    }
   ],
   "source": [
    "# return value is boolean. True of False\n",
    "> # greater \n",
    "< # less \n",
    "<= # less or equal to\n",
    "!= # not equal \n",
    "== #equal to\n",
    ">= # greater or equal"
   ]
  },
  {
   "cell_type": "code",
   "execution_count": 125,
   "metadata": {},
   "outputs": [],
   "source": [
    "x = 20\n",
    "y = 30\n",
    "z = 15"
   ]
  },
  {
   "cell_type": "code",
   "execution_count": 127,
   "metadata": {},
   "outputs": [
    {
     "output_type": "stream",
     "name": "stdout",
     "text": [
      "False\nTrue\n"
     ]
    }
   ],
   "source": [
    "print(x > y)\n",
    "print(x < y)"
   ]
  },
  {
   "cell_type": "code",
   "execution_count": 135,
   "metadata": {},
   "outputs": [
    {
     "output_type": "stream",
     "name": "stdout",
     "text": [
      "True\nTrue\n"
     ]
    }
   ],
   "source": [
    "x = 30\n",
    "y = 30\n",
    "\n",
    "print(x <= y) #True\n",
    "print(x >= y) #True\n"
   ]
  },
  {
   "cell_type": "code",
   "execution_count": null,
   "metadata": {},
   "outputs": [],
   "source": [
    "# How store names of Employees which needs accessed quickly\n",
    "# what data strucuture do unique values \n",
    "# give two ways each of creating a set, a list, tuple and dictionary."
   ]
  },
  {
   "cell_type": "code",
   "execution_count": 154,
   "metadata": {},
   "outputs": [],
   "source": [
    "#set, \n",
    "my_set = set(['sandy', 'diego', 'bubbles', 'blossom','sandy'])\n",
    "my_set_2 = set()\n",
    "\n",
    "\n",
    "#list, \n",
    "my_list = list(['10','15','17','two'])\n",
    "my_list_2 = ['10','15','17','two']\n",
    "\n",
    "\n",
    "#tuple \n",
    "my_tuple = tuple(['10','15','17','two'])\n",
    "my_tuple 2 = ()\n",
    "my_tuple3 = 10,20,30, 60\n",
    "\n",
    "\n",
    "\n",
    "#dictionary\n",
    "my_dict = {}\n",
    "my_dict_2 = dict()"
   ]
  },
  {
   "cell_type": "code",
   "execution_count": 155,
   "metadata": {},
   "outputs": [
    {
     "output_type": "stream",
     "name": "stdout",
     "text": [
      "<class 'set'>\n<class 'list'>\n<class 'list'>\n<class 'tuple'>\n<class 'dict'>\n<class 'dict'>\n"
     ]
    }
   ],
   "source": [
    "print(type(my_set))\n",
    "print(type(my_list))\n",
    "print(type(my_list_2))\n",
    "print(type(my_tuple))\n",
    "print(type(my_dict))\n",
    "print(type(my_dict_2))"
   ]
  },
  {
   "source": [],
   "cell_type": "markdown",
   "metadata": {}
  },
  {
   "cell_type": "code",
   "execution_count": 164,
   "metadata": {},
   "outputs": [],
   "source": [
    "# print(list.__doc__)\n",
    "# print('*' * 30)\n",
    "# print(tuple.__doc__)\n",
    "# print('*' * 30)\n",
    "\n",
    "# print(dict.__doc__)\n",
    "# print('*' * 30)\n",
    "\n",
    "# print(set.__doc__)"
   ]
  },
  {
   "cell_type": "code",
   "execution_count": 166,
   "metadata": {},
   "outputs": [
    {
     "output_type": "stream",
     "name": "stdout",
     "text": [
      "Help on class list in module builtins:\n\nclass list(object)\n |  list(iterable=(), /)\n |  \n |  Built-in mutable sequence.\n |  \n |  If no argument is given, the constructor creates a new empty list.\n |  The argument must be an iterable if specified.\n |  \n |  Methods defined here:\n |  \n |  __add__(self, value, /)\n |      Return self+value.\n |  \n |  __contains__(self, key, /)\n |      Return key in self.\n |  \n |  __delitem__(self, key, /)\n |      Delete self[key].\n |  \n |  __eq__(self, value, /)\n |      Return self==value.\n |  \n |  __ge__(self, value, /)\n |      Return self>=value.\n |  \n |  __getattribute__(self, name, /)\n |      Return getattr(self, name).\n |  \n |  __getitem__(...)\n |      x.__getitem__(y) <==> x[y]\n |  \n |  __gt__(self, value, /)\n |      Return self>value.\n |  \n |  __iadd__(self, value, /)\n |      Implement self+=value.\n |  \n |  __imul__(self, value, /)\n |      Implement self*=value.\n |  \n |  __init__(self, /, *args, **kwargs)\n |      Initialize self.  See help(type(self)) for accurate signature.\n |  \n |  __iter__(self, /)\n |      Implement iter(self).\n |  \n |  __le__(self, value, /)\n |      Return self<=value.\n |  \n |  __len__(self, /)\n |      Return len(self).\n |  \n |  __lt__(self, value, /)\n |      Return self<value.\n |  \n |  __mul__(self, value, /)\n |      Return self*value.\n |  \n |  __ne__(self, value, /)\n |      Return self!=value.\n |  \n |  __repr__(self, /)\n |      Return repr(self).\n |  \n |  __reversed__(self, /)\n |      Return a reverse iterator over the list.\n |  \n |  __rmul__(self, value, /)\n |      Return value*self.\n |  \n |  __setitem__(self, key, value, /)\n |      Set self[key] to value.\n |  \n |  __sizeof__(self, /)\n |      Return the size of the list in memory, in bytes.\n |  \n |  append(self, object, /)\n |      Append object to the end of the list.\n |  \n |  clear(self, /)\n |      Remove all items from list.\n |  \n |  copy(self, /)\n |      Return a shallow copy of the list.\n |  \n |  count(self, value, /)\n |      Return number of occurrences of value.\n |  \n |  extend(self, iterable, /)\n |      Extend list by appending elements from the iterable.\n |  \n |  index(self, value, start=0, stop=9223372036854775807, /)\n |      Return first index of value.\n |      \n |      Raises ValueError if the value is not present.\n |  \n |  insert(self, index, object, /)\n |      Insert object before index.\n |  \n |  pop(self, index=-1, /)\n |      Remove and return item at index (default last).\n |      \n |      Raises IndexError if list is empty or index is out of range.\n |  \n |  remove(self, value, /)\n |      Remove first occurrence of value.\n |      \n |      Raises ValueError if the value is not present.\n |  \n |  reverse(self, /)\n |      Reverse *IN PLACE*.\n |  \n |  sort(self, /, *, key=None, reverse=False)\n |      Sort the list in ascending order and return None.\n |      \n |      The sort is in-place (i.e. the list itself is modified) and stable (i.e. the\n |      order of two equal elements is maintained).\n |      \n |      If a key function is given, apply it once to each list item and sort them,\n |      ascending or descending, according to their function values.\n |      \n |      The reverse flag can be set to sort in descending order.\n |  \n |  ----------------------------------------------------------------------\n |  Static methods defined here:\n |  \n |  __new__(*args, **kwargs) from builtins.type\n |      Create and return a new object.  See help(type) for accurate signature.\n |  \n |  ----------------------------------------------------------------------\n |  Data and other attributes defined here:\n |  \n |  __hash__ = None\n\n"
     ]
    }
   ],
   "source": [
    "help(list)"
   ]
  },
  {
   "cell_type": "code",
   "execution_count": 169,
   "metadata": {},
   "outputs": [
    {
     "output_type": "stream",
     "name": "stdout",
     "text": [
      "<class 'tuple'>\n"
     ]
    }
   ],
   "source": [
    "my_tuple3 = 10,'ade', 'sam'\n",
    "print(type(my_tuple3))"
   ]
  },
  {
   "cell_type": "code",
   "execution_count": 172,
   "metadata": {},
   "outputs": [
    {
     "output_type": "stream",
     "name": "stdout",
     "text": [
      "s\nt\nr\ni\nn\ng\n"
     ]
    }
   ],
   "source": [
    "for i in 'string':\n",
    "    print(i)"
   ]
  },
  {
   "cell_type": "code",
   "execution_count": null,
   "metadata": {},
   "outputs": [],
   "source": []
  }
 ]
}
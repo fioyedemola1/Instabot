{
 "metadata": {
  "language_info": {
   "codemirror_mode": {
    "name": "ipython",
    "version": 3
   },
   "file_extension": ".py",
   "mimetype": "text/x-python",
   "name": "python",
   "nbconvert_exporter": "python",
   "pygments_lexer": "ipython3",
   "version": "3.8.5"
  },
  "orig_nbformat": 2,
  "kernelspec": {
   "name": "python385jvsc74a57bd057afa3c55199372cc74ce95ef8abe2f2d30a7accba4b0a9ba7456fa3ad07924a",
   "display_name": "Python 3.8.5 64-bit ('base': conda)"
  }
 },
 "nbformat": 4,
 "nbformat_minor": 2,
 "cells": [
  {
   "cell_type": "code",
   "execution_count": null,
   "metadata": {},
   "outputs": [],
   "source": [
    "# if\n",
    "# loops\n",
    "# function\n"
   ]
  },
  {
   "cell_type": "code",
   "execution_count": 20,
   "metadata": {},
   "outputs": [],
   "source": [
    "list_com = [x for x in range(1,11)]\n",
    "set_com = {x for x in range(0,10)}\n",
    "dict_comp ={k:v for k,v in enumerate(list_com)}"
   ]
  },
  {
   "cell_type": "code",
   "execution_count": 7,
   "metadata": {},
   "outputs": [
    {
     "output_type": "stream",
     "name": "stdout",
     "text": [
      "0 1\n1 2\n2 3\n3 4\n4 5\n5 6\n6 7\n7 8\n8 9\n"
     ]
    }
   ],
   "source": [
    "# for x,y in enumerate(list_com):\n",
    "#     print (x, y)"
   ]
  },
  {
   "cell_type": "code",
   "execution_count": 28,
   "metadata": {},
   "outputs": [
    {
     "output_type": "stream",
     "name": "stdout",
     "text": [
      "1\n2\n3\n4\n5\n6\n7\n8\n9\n10\n"
     ]
    }
   ],
   "source": [
    "# dict_comp\n",
    "# for key, value in dict_comp.items():\n",
    "#     # print(dict_comp.get(i))\n",
    "#     # print(dict_comp[i], i)\n",
    "#     # print(key, value)\n",
    "# for key in dict_comp.values():\n",
    "#     print(key)\n",
    "\n",
    "# dict_comp[0]\n",
    "# dict_comp.get(0)"
   ]
  },
  {
   "cell_type": "code",
   "execution_count": 30,
   "metadata": {},
   "outputs": [
    {
     "output_type": "stream",
     "name": "stdout",
     "text": [
      "0\t1\t2\t3\t4\t5\t6\t7\t8\t9\tdone\n"
     ]
    }
   ],
   "source": [
    "for i in range(0,10):\n",
    "    print(i, end='\\t')\n",
    "else:\n",
    "    print('done')"
   ]
  },
  {
   "source": [
    "## Errors and Exceptions"
   ],
   "cell_type": "markdown",
   "metadata": {}
  },
  {
   "cell_type": "code",
   "execution_count": 43,
   "metadata": {},
   "outputs": [
    {
     "output_type": "error",
     "ename": "TypeError",
     "evalue": "unsupported operand type(s) for +: 'int' and 'str'",
     "traceback": [
      "\u001b[0;31m---------------------------------------------------------------------------\u001b[0m",
      "\u001b[0;31mTypeError\u001b[0m                                 Traceback (most recent call last)",
      "\u001b[0;32m<ipython-input-43-ea625563521e>\u001b[0m in \u001b[0;36m<module>\u001b[0;34m\u001b[0m\n\u001b[1;32m      9\u001b[0m \u001b[0;31m# NameError\u001b[0m\u001b[0;34m\u001b[0m\u001b[0;34m\u001b[0m\u001b[0;34m\u001b[0m\u001b[0m\n\u001b[1;32m     10\u001b[0m \u001b[0;31m# random\u001b[0m\u001b[0;34m\u001b[0m\u001b[0;34m\u001b[0m\u001b[0;34m\u001b[0m\u001b[0m\n\u001b[0;32m---> 11\u001b[0;31m \u001b[0mb\u001b[0m \u001b[0;34m=\u001b[0m \u001b[0;36m20\u001b[0m \u001b[0;34m+\u001b[0m\u001b[0;34m'30'\u001b[0m\u001b[0;34m\u001b[0m\u001b[0;34m\u001b[0m\u001b[0m\n\u001b[0m\u001b[1;32m     12\u001b[0m \u001b[0mb\u001b[0m\u001b[0;34m.\u001b[0m\u001b[0mcapitlise\u001b[0m\u001b[0;34m(\u001b[0m\u001b[0;34m)\u001b[0m\u001b[0;34m\u001b[0m\u001b[0;34m\u001b[0m\u001b[0m\n",
      "\u001b[0;31mTypeError\u001b[0m: unsupported operand type(s) for +: 'int' and 'str'"
     ]
    }
   ],
   "source": [
    "# catch the errros\n",
    "# divisionError\n",
    "a = 10\n",
    "b = 0\n",
    "# a/b\n",
    "# iindex error\n",
    "my_list= [1,2,3,4,5]\n",
    "# my_list[10]\n",
    "# NameError\n",
    "# random\n",
    "# b = 20 +'30'  # Type Error\n",
    "# b.capitlise(). £ Attribute Error"
   ]
  },
  {
   "cell_type": "code",
   "execution_count": 53,
   "metadata": {},
   "outputs": [
    {
     "output_type": "stream",
     "name": "stdout",
     "text": [
      "my code here ran\nunsupported operand type(s) for /: 'int' and 'str'\nmy code has completed its function\nmy code here ran\n"
     ]
    }
   ],
   "source": [
    "print('my code here ran')\n",
    "a = 10\n",
    "b = 'apple'\n",
    "try:\n",
    "    if type(a) == int or type(b)== int: # validation\n",
    "        c = a / b\n",
    "\n",
    "except ZeroDivisionError as msg: # catch\n",
    "    print(msg)\n",
    "except TypeError as msg:\n",
    "    print(msg)\n",
    "\n",
    "finally:\n",
    "    print('my code has completed its function')\n",
    "print('my code here ran')\n"
   ]
  },
  {
   "cell_type": "code",
   "execution_count": 69,
   "metadata": {},
   "outputs": [],
   "source": [
    "a = 10\n",
    "b = 0\n",
    "\n",
    "try:\n",
    "    if type(a) == int and type(b)== int: # fail validation\n",
    "         c = a / b\n",
    "    else:\n",
    "        raise ZeroDivisionError\n",
    "\n",
    "except ZeroDivisionError:  #caught\n",
    "     assert b == 0\n",
    "        "
   ]
  },
  {
   "cell_type": "code",
   "execution_count": 83,
   "metadata": {},
   "outputs": [
    {
     "output_type": "stream",
     "name": "stdout",
     "text": [
      "an error as occurred\n"
     ]
    }
   ],
   "source": [
    "try:\n",
    "    assert b == 0 , 'an error as occurred'\n",
    "except AssertionError as msg:\n",
    "    print(msg)\n",
    "assert 1 ==  1\n"
   ]
  },
  {
   "source": [
    "## Functions"
   ],
   "cell_type": "markdown",
   "metadata": {}
  },
  {
   "cell_type": "code",
   "execution_count": null,
   "metadata": {},
   "outputs": [],
   "source": [
    "# functiion programming and Object oriented\n",
    "# functions to create process\n",
    "# oop for store a state  \n",
    "\n",
    "# employeee1.tax() $200\n",
    "# employeee2.tax() $300\n"
   ]
  },
  {
   "cell_type": "code",
   "execution_count": 101,
   "metadata": {},
   "outputs": [
    {
     "output_type": "stream",
     "name": "stdout",
     "text": [
      "i am a test\n"
     ]
    },
    {
     "output_type": "execute_result",
     "data": {
      "text/plain": [
       "False"
      ]
     },
     "metadata": {},
     "execution_count": 101
    }
   ],
   "source": [
    "def funcname():\n",
    "    a = 10\n",
    "    b = 0\n",
    "\n",
    "    try:\n",
    "        if type(a) == int and type(b)== int: # fail validation\n",
    "             c = a / b\n",
    "        else:\n",
    "            raise ZeroDivisionError\n",
    "\n",
    "    except ZeroDivisionError:  #caught\n",
    "         assert b == 0\n",
    "\n",
    "\n",
    "#  it asssigned a variable\n",
    "\n",
    "def test():\n",
    "    print('i am a test')\n",
    "\n",
    "another_function = test\n",
    "\n",
    "another_function() # callable\n",
    "\n",
    "callable(another_function)\n",
    "\n",
    "# hasattr()"
   ]
  },
  {
   "cell_type": "code",
   "execution_count": 124,
   "metadata": {},
   "outputs": [],
   "source": [
    "# function returns a None value when the return statement is not explicitly declared\n",
    "\n",
    "def a_new_function():\n",
    "    return 2"
   ]
  },
  {
   "cell_type": "code",
   "execution_count": 125,
   "metadata": {},
   "outputs": [
    {
     "output_type": "stream",
     "name": "stdout",
     "text": [
      "21\n"
     ]
    },
    {
     "output_type": "execute_result",
     "data": {
      "text/plain": [
       "4"
      ]
     },
     "metadata": {},
     "execution_count": 125
    }
   ],
   "source": [
    "var1 = a_new_function()\n",
    "2 + var1"
   ]
  },
  {
   "cell_type": "code",
   "execution_count": 130,
   "metadata": {},
   "outputs": [],
   "source": [
    "def addi():\n",
    "    a = 20\n",
    "    b - 20 \n",
    "    c = 'okay'\n",
    "    return (a+ b), c"
   ]
  },
  {
   "cell_type": "code",
   "execution_count": 132,
   "metadata": {},
   "outputs": [
    {
     "output_type": "stream",
     "name": "stdout",
     "text": [
      "<class 'tuple'>\n"
     ]
    }
   ],
   "source": [
    "var = addi()\n",
    "print(type(var))"
   ]
  },
  {
   "cell_type": "code",
   "execution_count": 137,
   "metadata": {},
   "outputs": [],
   "source": [
    "# value1 = var[0]\n",
    "# value1b = var[0+1]  #var[1]\n",
    "# value2 =  var[1]\n",
    "\n",
    "value1, value2 = addi() #unpacking"
   ]
  },
  {
   "cell_type": "code",
   "execution_count": 138,
   "metadata": {},
   "outputs": [
    {
     "output_type": "stream",
     "name": "stdout",
     "text": [
      "21\nokay\n"
     ]
    }
   ],
   "source": [
    "print(value1)\n",
    "# print(value1b)\n",
    "print(value2)"
   ]
  },
  {
   "cell_type": "code",
   "execution_count": 139,
   "metadata": {},
   "outputs": [
    {
     "output_type": "stream",
     "name": "stdout",
     "text": [
      "0\n1\n"
     ]
    }
   ],
   "source": [
    "for i in range(2):\n",
    "    print(i)"
   ]
  },
  {
   "cell_type": "code",
   "execution_count": 30,
   "metadata": {},
   "outputs": [
    {
     "output_type": "stream",
     "name": "stdout",
     "text": [
      "addi has been called\n"
     ]
    },
    {
     "output_type": "execute_result",
     "data": {
      "text/plain": [
       "(4, 'man')"
      ]
     },
     "metadata": {},
     "execution_count": 30
    }
   ],
   "source": [
    "# functional \n",
    "# pure functions\n",
    "# data \n",
    "# functions \n",
    "\n",
    "# LEGB rule --> Local enclosed global and Bultiing \n",
    "\n",
    "a = 20  #global # variable\n",
    "b = 20 \n",
    "c = 'okay'\n",
    "\n",
    "def another():\n",
    "    a =1000.  # nonlocal variable\n",
    "    \n",
    "    def addi():\n",
    "        nonlocal a\n",
    "        a = 2 # local variable\n",
    "        b = 2\n",
    "        c = 'man'\n",
    "        print('addi has been called')\n",
    "        return (a+ b), c\n",
    "    return addi\n",
    "\n",
    "a =another()\n",
    "a()"
   ]
  },
  {
   "cell_type": "code",
   "execution_count": 55,
   "metadata": {},
   "outputs": [],
   "source": [
    "def func_with(name): # arg positional \n",
    "    return name\n",
    "\n",
    "def func_with2(name, age, occupation): # arg positional \n",
    "     if name == 'ade':\n",
    "         name = 'something else'\n",
    "     return {'name':name, 'age': age, 'ocup': occupation}\n",
    "\n",
    "def func_with3(name, age, occupation= 'contractor'): # arg positional \n",
    "    return {'name':name, 'age': age, 'ocup': occupation}\n",
    "\n",
    "\n",
    "def func_with4(ade = 'Sam'): # optional keywaord positional \n",
    "    return ade\n"
   ]
  },
  {
   "cell_type": "code",
   "execution_count": 58,
   "metadata": {},
   "outputs": [
    {
     "output_type": "execute_result",
     "data": {
      "text/plain": [
       "{'name': 'ade', 'age': 4, 'ocup': 'contractor'}"
      ]
     },
     "metadata": {},
     "execution_count": 58
    }
   ],
   "source": [
    "func_with3('ade', 4)"
   ]
  },
  {
   "cell_type": "code",
   "execution_count": 64,
   "metadata": {},
   "outputs": [],
   "source": [
    "# # for i in range(x)\n",
    "# def func(x):\n",
    "#     print(x)\n",
    "#     if x == 10:\n",
    "#         return\n",
    "#     return func(x+1)\n",
    "\n",
    "\n",
    "# func(1)   \n",
    "# func(2)   \n",
    "# func(3)   "
   ]
  },
  {
   "cell_type": "code",
   "execution_count": 72,
   "metadata": {},
   "outputs": [
    {
     "output_type": "stream",
     "name": "stdout",
     "text": [
      "0\n1\n2\n3\n4\n5\n6\n7\n8\n9\n10\ni am about to break\n"
     ]
    }
   ],
   "source": [
    "x = 11\n",
    "for i in range(x):\n",
    "    print(i)\n",
    "    if i == 10:\n",
    "        print('i am about to break')\n",
    "        break"
   ]
  },
  {
   "cell_type": "code",
   "execution_count": null,
   "metadata": {},
   "outputs": [],
   "source": [
    "def ans(value):\n",
    "    #logic\n",
    "    return answer\n",
    "value = '34243242354354'\n",
    "\n",
    "keys=[\n",
    "    {\n",
    "        \"link\": \"www.xxxxxxxxxxx.com\",  \n",
    "        \"key\": '34243242354354'\n",
    "    },\n",
    "    {\n",
    "        \"link\": \"www.xxxxxxxxx343xx.com\",\n",
    "        \"key\": '432432534534534'\n",
    "    },\n",
    "    {\n",
    "        \"link\": \"www.xxxxx4355656xxxxxx.com\",\n",
    "        \"key\": '423459534534'\n",
    "    },\n",
    "    {\n",
    "        \"link\": \"www.xxxx6575xxxxxxx.com\",\n",
    "        \"key\": '423459534534'\n",
    "    },\n",
    "    {\n",
    "        \"link\": \"www.xxxxxxxt67657gfxxxx.com\",\n",
    "        \"key\": '423459534534'\n",
    "    }\n",
    "]"
   ]
  },
  {
   "cell_type": "code",
   "execution_count": 78,
   "metadata": {},
   "outputs": [
    {
     "output_type": "error",
     "ename": "TypeError",
     "evalue": "two() missing 2 required positional arguments: 'value' and 'items'",
     "traceback": [
      "\u001b[0;31m---------------------------------------------------------------------------\u001b[0m",
      "\u001b[0;31mTypeError\u001b[0m                                 Traceback (most recent call last)",
      "\u001b[0;32m<ipython-input-78-8c58fa72b29d>\u001b[0m in \u001b[0;36m<module>\u001b[0;34m\u001b[0m\n\u001b[1;32m      5\u001b[0m \u001b[0;34m\u001b[0m\u001b[0m\n\u001b[1;32m      6\u001b[0m \u001b[0;31m# two('34243242354354', keys)\u001b[0m\u001b[0;34m\u001b[0m\u001b[0;34m\u001b[0m\u001b[0;34m\u001b[0m\u001b[0m\n\u001b[0;32m----> 7\u001b[0;31m \u001b[0mtwo\u001b[0m\u001b[0;34m(\u001b[0m\u001b[0;34m)\u001b[0m\u001b[0;34m\u001b[0m\u001b[0;34m\u001b[0m\u001b[0m\n\u001b[0m",
      "\u001b[0;31mTypeError\u001b[0m: two() missing 2 required positional arguments: 'value' and 'items'"
     ]
    }
   ],
   "source": [
    "def two(value,items):\n",
    "    pass\n",
    "    #logic\n",
    "    return answer\n",
    "\n",
    "# two('34243242354354', keys)\n",
    "\n"
   ]
  },
  {
   "cell_type": "code",
   "execution_count": null,
   "metadata": {},
   "outputs": [],
   "source": []
  }
 ]
}
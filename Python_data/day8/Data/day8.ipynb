{
 "metadata": {
  "language_info": {
   "codemirror_mode": {
    "name": "ipython",
    "version": 3
   },
   "file_extension": ".py",
   "mimetype": "text/x-python",
   "name": "python",
   "nbconvert_exporter": "python",
   "pygments_lexer": "ipython3",
   "version": "3.9.1"
  },
  "orig_nbformat": 2,
  "kernelspec": {
   "name": "python391jvsc74a57bd0397704579725e15f5c7cb49fe5f0341eb7531c82d19f2c29d197e8b64ab5776b",
   "display_name": "Python 3.9.1 64-bit"
  },
  "metadata": {
   "interpreter": {
    "hash": "397704579725e15f5c7cb49fe5f0341eb7531c82d19f2c29d197e8b64ab5776b"
   }
  }
 },
 "nbformat": 4,
 "nbformat_minor": 2,
 "cells": [
  {
   "cell_type": "code",
   "execution_count": 1,
   "metadata": {},
   "outputs": [],
   "source": [
    "# *args and **kwargs\n",
    "#pure functions"
   ]
  },
  {
   "cell_type": "code",
   "execution_count": 5,
   "metadata": {},
   "outputs": [],
   "source": [
    "# reading writing\n",
    "file = open('missing.csv', 'rt')\n",
    "file.close()"
   ]
  },
  {
   "cell_type": "code",
   "execution_count": 11,
   "metadata": {},
   "outputs": [],
   "source": [
    "# context manager\n",
    "class reader:\n",
    "    # def __init__(self, filepath):\n",
    "    #     self.path = filepath\n",
    "    def __enter__(self):\n",
    "        print('enter')\n",
    "    def __exit__(self, exc_type, exc_val, exc_tb):\n",
    "        print('close')"
   ]
  },
  {
   "cell_type": "code",
   "execution_count": 5,
   "metadata": {},
   "outputs": [
    {
     "output_type": "stream",
     "name": "stdout",
     "text": [
      "/Users/de_tai/Desktop/new_class/Python_data/day8\n"
     ]
    }
   ],
   "source": [
    "import os \n",
    "curr = os.getcwd()\n",
    "print(curr)"
   ]
  },
  {
   "cell_type": "code",
   "execution_count": 6,
   "metadata": {},
   "outputs": [],
   "source": [
    "with open('missing.csv', 'rt') as file:\n",
    "    data = file.read()"
   ]
  },
  {
   "cell_type": "code",
   "execution_count": 16,
   "metadata": {},
   "outputs": [
    {
     "output_type": "execute_result",
     "data": {
      "text/plain": [
       "'name,shares,price\\n\"AA\",100,32.20\\n\"IBM\",50,91.10\\n\"CAT\",150,83.44\\n\"MSFT\",,51.23\\n\"GE\",95,40.37\\n\"MSFT\",50,65.10\\n\"IBM\",,70.44\\n'"
      ]
     },
     "metadata": {},
     "execution_count": 16
    }
   ],
   "source": [
    "data"
   ]
  },
  {
   "cell_type": "code",
   "execution_count": 18,
   "metadata": {},
   "outputs": [],
   "source": [
    "with open('newfile.txt', 'wt') as writer:\n",
    "    writer.writelines(data)"
   ]
  },
  {
   "cell_type": "code",
   "execution_count": 21,
   "metadata": {},
   "outputs": [
    {
     "output_type": "stream",
     "name": "stdout",
     "text": [
      "name,shares,price\n\n\"AA\",100,32.20\n\n\"IBM\",50,91.10\n\n\"CAT\",150,83.44\n\n\"MSFT\",,51.23\n\n\"GE\",95,40.37\n\n\"MSFT\",50,65.10\n\n\"IBM\",,70.44\n\n"
     ]
    }
   ],
   "source": [
    "with open('newfile.txt', 'rt') as writer:\n",
    "    for i in writer.readlines():\n",
    "        print(i)"
   ]
  },
  {
   "cell_type": "code",
   "execution_count": 52,
   "metadata": {},
   "outputs": [
    {
     "output_type": "stream",
     "name": "stdout",
     "text": [
      "<_csv.reader object at 0x7f983c5f2a50>\n['AA', '100', '32.20']\n['IBM', '50', '91.10']\n['CAT', '150', '83.44']\n"
     ]
    }
   ],
   "source": [
    "import csv\n",
    "data = None\n",
    "with open('newfile.txt', 'rt') as file:\n",
    "    data = csv.reader(file)\n",
    "    print(data)\n",
    "    header= next(data) # generators\n",
    "    print(next(data))\n",
    "    print(next(data))\n",
    "    print(next(data))\n",
    "    # print(header)\n",
    "    # for i in data:\n",
    "    #     print(i, 'this is i')\n",
    "    "
   ]
  },
  {
   "cell_type": "code",
   "execution_count": 54,
   "metadata": {},
   "outputs": [],
   "source": [
    "sample = [x for x in range(1000000)]\n",
    "sample2 = iter(sampel)\n"
   ]
  },
  {
   "cell_type": "code",
   "execution_count": 16,
   "metadata": {},
   "outputs": [],
   "source": [
    "def csv_reader(filepath):\n",
    "    with open(filepath,'rt') as file:\n",
    "        for i in file:\n",
    "            yield i #  stop. lazy iteration\n",
    "\n",
    "\n",
    "def csv_reader2(filepath):\n",
    "    with open(filepath,'rt') as file:\n",
    "        for i in file:\n",
    "            return i # break"
   ]
  },
  {
   "cell_type": "code",
   "execution_count": 21,
   "metadata": {},
   "outputs": [
    {
     "output_type": "execute_result",
     "data": {
      "text/plain": [
       "['__class__',\n",
       " '__del__',\n",
       " '__delattr__',\n",
       " '__dir__',\n",
       " '__doc__',\n",
       " '__eq__',\n",
       " '__format__',\n",
       " '__ge__',\n",
       " '__getattribute__',\n",
       " '__gt__',\n",
       " '__hash__',\n",
       " '__init__',\n",
       " '__init_subclass__',\n",
       " '__iter__',\n",
       " '__le__',\n",
       " '__lt__',\n",
       " '__name__',\n",
       " '__ne__',\n",
       " '__new__',\n",
       " '__next__',\n",
       " '__qualname__',\n",
       " '__reduce__',\n",
       " '__reduce_ex__',\n",
       " '__repr__',\n",
       " '__setattr__',\n",
       " '__sizeof__',\n",
       " '__str__',\n",
       " '__subclasshook__',\n",
       " 'close',\n",
       " 'gi_code',\n",
       " 'gi_frame',\n",
       " 'gi_running',\n",
       " 'gi_yieldfrom',\n",
       " 'send',\n",
       " 'throw']"
      ]
     },
     "metadata": {},
     "execution_count": 21
    }
   ],
   "source": [
    "data = csv_reader('newfile.txt')\n",
    "dir(data)"
   ]
  },
  {
   "cell_type": "code",
   "execution_count": 19,
   "metadata": {},
   "outputs": [
    {
     "output_type": "stream",
     "name": "stdout",
     "text": [
      "name,shares,price\n\n"
     ]
    }
   ],
   "source": [
    "data2 = csv_reader2('newfile.txt')\n",
    "print(data2)"
   ]
  },
  {
   "cell_type": "code",
   "execution_count": 11,
   "metadata": {},
   "outputs": [],
   "source": [
    "header= next(data)\n",
    "row = []\n",
    "for i in data:\n",
    "    row.append(i)"
   ]
  },
  {
   "cell_type": "code",
   "execution_count": 14,
   "metadata": {},
   "outputs": [
    {
     "output_type": "stream",
     "name": "stdout",
     "text": [
      "name,shares,price\n\n"
     ]
    }
   ],
   "source": [
    "print(header)"
   ]
  },
  {
   "cell_type": "code",
   "execution_count": 45,
   "metadata": {},
   "outputs": [],
   "source": [
    "def csv_reader(filepath):\n",
    "    with open(filepath,'rt') as file:\n",
    "        for i in file:\n",
    "            yield i #  stop. lazy iteration\n",
    "\n",
    "\n",
    "\n",
    "def func(file, header = None,*args):\n",
    "    for i in args:\n",
    "        print(i)\n",
    "\n",
    "    print(limit)\n",
    "    data = csv_reader(file)\n",
    "    column = header # none\n",
    "    row = []\n",
    "    if column is None:\n",
    "        column= next(data)\n",
    "        print(column)\n",
    "    for i in data:\n",
    "        row.append(i)\n",
    "    return column, row\n"
   ]
  },
  {
   "cell_type": "code",
   "execution_count": 46,
   "metadata": {},
   "outputs": [
    {
     "output_type": "stream",
     "name": "stdout",
     "text": [
      "34435454353\n2323234\n"
     ]
    }
   ],
   "source": [
    "col, row = func('missing.csv', ['name','somewthing_new','price'],2323234,34435454353)"
   ]
  },
  {
   "cell_type": "code",
   "execution_count": 35,
   "metadata": {},
   "outputs": [
    {
     "output_type": "stream",
     "name": "stdout",
     "text": [
      "['name', 'somewthing_new', 'price']\n"
     ]
    }
   ],
   "source": [
    "print(col)"
   ]
  },
  {
   "cell_type": "code",
   "execution_count": 59,
   "metadata": {},
   "outputs": [],
   "source": [
    "def casting(*args, **kwargs):\n",
    "    for i in args:\n",
    "        print(i)\n",
    "    print(kwargs)"
   ]
  },
  {
   "cell_type": "code",
   "execution_count": 60,
   "metadata": {},
   "outputs": [
    {
     "output_type": "stream",
     "name": "stdout",
     "text": [
      "2\n2\n3\n4\n5\nst\n{'name': 'ade'}\n"
     ]
    }
   ],
   "source": [
    "casting(2,2,3,4,5,'st', name = 'ade')"
   ]
  },
  {
   "cell_type": "code",
   "execution_count": 71,
   "metadata": {},
   "outputs": [],
   "source": [
    "# map and filter\n",
    "def printer(x):\n",
    "    return x*2\n",
    "vale= [1,2,3,4,5,6,7]"
   ]
  },
  {
   "cell_type": "code",
   "execution_count": 74,
   "metadata": {},
   "outputs": [
    {
     "output_type": "error",
     "ename": "TypeError",
     "evalue": "'list' object is not callable",
     "traceback": [
      "\u001b[0;31m---------------------------------------------------------------------------\u001b[0m",
      "\u001b[0;31mTypeError\u001b[0m                                 Traceback (most recent call last)",
      "\u001b[0;32m<ipython-input-74-b84b1e46f347>\u001b[0m in \u001b[0;36m<module>\u001b[0;34m\u001b[0m\n\u001b[1;32m      4\u001b[0m \u001b[0;31m# print(ans)\u001b[0m\u001b[0;34m\u001b[0m\u001b[0;34m\u001b[0m\u001b[0;34m\u001b[0m\u001b[0m\n\u001b[1;32m      5\u001b[0m \u001b[0;34m\u001b[0m\u001b[0m\n\u001b[0;32m----> 6\u001b[0;31m \u001b[0mlist3\u001b[0m \u001b[0;34m=\u001b[0m \u001b[0mlist\u001b[0m\u001b[0;34m(\u001b[0m\u001b[0mmap\u001b[0m\u001b[0;34m(\u001b[0m\u001b[0mprinter\u001b[0m\u001b[0;34m,\u001b[0m\u001b[0mvale\u001b[0m \u001b[0;34m)\u001b[0m\u001b[0;34m)\u001b[0m\u001b[0;34m\u001b[0m\u001b[0;34m\u001b[0m\u001b[0m\n\u001b[0m",
      "\u001b[0;31mTypeError\u001b[0m: 'list' object is not callable"
     ]
    }
   ],
   "source": [
    "# for i in vale:\n",
    "#     printer(i)\n",
    "# ans = [printer(x) for x in vale]\n",
    "# print(ans)\n",
    "\n",
    "list3 = list(map(printer,vale ))\n",
    "\n",
    "filter\n",
    "zip\n",
    "reduce\n",
    "# collections"
   ]
  },
  {
   "cell_type": "code",
   "execution_count": 78,
   "metadata": {},
   "outputs": [
    {
     "output_type": "execute_result",
     "data": {
      "text/plain": [
       "[2, 4, 6, 8, 10, 12, 14]"
      ]
     },
     "metadata": {},
     "execution_count": 78
    }
   ],
   "source": []
  },
  {
   "cell_type": "code",
   "execution_count": 84,
   "metadata": {},
   "outputs": [
    {
     "output_type": "execute_result",
     "data": {
      "text/plain": [
       "3"
      ]
     },
     "metadata": {},
     "execution_count": 84
    }
   ],
   "source": [
    "import random\n",
    "random.choice([1,2,3,4,5])"
   ]
  },
  {
   "cell_type": "code",
   "execution_count": 86,
   "metadata": {},
   "outputs": [
    {
     "output_type": "stream",
     "name": "stdout",
     "text": [
      "<class 'int'>\n<class 'type'>\n"
     ]
    }
   ],
   "source": [
    "print(type(1))\n",
    "print(type(int))"
   ]
  },
  {
   "cell_type": "code",
   "execution_count": 98,
   "metadata": {},
   "outputs": [],
   "source": [
    "class Factory:\n",
    "\n",
    "    def dept(self):  # methods are functions tied to a class\n",
    "        print('manu')\n",
    "        print(self)\n",
    "    def dept1(self):\n",
    "        print('sales')\n",
    "    def dept2(self):\n",
    "        print('mark')\n",
    "  "
   ]
  },
  {
   "cell_type": "code",
   "execution_count": 99,
   "metadata": {},
   "outputs": [],
   "source": [
    "a = Factory()"
   ]
  },
  {
   "cell_type": "code",
   "execution_count": 100,
   "metadata": {},
   "outputs": [
    {
     "output_type": "stream",
     "name": "stdout",
     "text": [
      "manu\n<__main__.Factory object at 0x7fc2a2e82ee0>\nmark\nsales\n"
     ]
    }
   ],
   "source": [
    "a.dept()\n",
    "a.dept2()\n",
    "a.dept1()"
   ]
  },
  {
   "cell_type": "code",
   "execution_count": 111,
   "metadata": {},
   "outputs": [],
   "source": [
    "class Numeric:\n",
    "    def __init__(self, val):\n",
    "        self.val = val\n",
    "    def __repr__(self):\n",
    "        return f'{self.val} class has been created'\n",
    "    def __add__(self, other):\n",
    "        return self.val + other.val\n",
    "        "
   ]
  },
  {
   "cell_type": "code",
   "execution_count": 112,
   "metadata": {},
   "outputs": [
    {
     "output_type": "execute_result",
     "data": {
      "text/plain": [
       "2 class has been created"
      ]
     },
     "metadata": {},
     "execution_count": 112
    }
   ],
   "source": [
    "one= Numeric(1)\n",
    "one\n",
    "\n",
    "two = Numeric(2)\n",
    "two"
   ]
  },
  {
   "cell_type": "code",
   "execution_count": 12,
   "metadata": {},
   "outputs": [],
   "source": [
    "# read\n",
    "# save\n",
    "class File_worker:\n",
    "    def __init__(self, filepath):\n",
    "       self.path = filepath\n",
    "\n",
    "    def reads(self):\n",
    "        pass\n",
    "    def process(self):\n",
    "        pass\n",
    "    def saves(self):\n",
    "        with open(self.path,'wt') as file:\n",
    "            file.write('location')\n",
    "    "
   ]
  },
  {
   "cell_type": "code",
   "execution_count": 13,
   "metadata": {},
   "outputs": [],
   "source": [
    "file = File_worker('missing1.csv')\n",
    "file.saves()"
   ]
  },
  {
   "cell_type": "code",
   "execution_count": 1,
   "metadata": {},
   "outputs": [
    {
     "output_type": "execute_result",
     "data": {
      "text/plain": [
       "list"
      ]
     },
     "metadata": {},
     "execution_count": 1
    }
   ],
   "source": [
    "print 'ok'"
   ]
  },
  {
   "cell_type": "code",
   "execution_count": 3,
   "metadata": {},
   "outputs": [
    {
     "output_type": "error",
     "ename": "ImportError",
     "evalue": "cannot import name 'Namedtuple' from 'typing' (/Library/Frameworks/Python.framework/Versions/3.9/lib/python3.9/typing.py)",
     "traceback": [
      "\u001b[0;31m---------------------------------------------------------------------------\u001b[0m",
      "\u001b[0;31mImportError\u001b[0m                               Traceback (most recent call last)",
      "\u001b[0;32m<ipython-input-3-4cc53670c517>\u001b[0m in \u001b[0;36m<module>\u001b[0;34m\u001b[0m\n\u001b[0;32m----> 1\u001b[0;31m \u001b[0;32mfrom\u001b[0m \u001b[0mtyping\u001b[0m \u001b[0;32mimport\u001b[0m \u001b[0mNamedtuple\u001b[0m\u001b[0;34m\u001b[0m\u001b[0;34m\u001b[0m\u001b[0m\n\u001b[0m",
      "\u001b[0;31mImportError\u001b[0m: cannot import name 'Namedtuple' from 'typing' (/Library/Frameworks/Python.framework/Versions/3.9/lib/python3.9/typing.py)"
     ]
    }
   ],
   "source": [
    "from typing import Namedtuple"
   ]
  },
  {
   "cell_type": "code",
   "execution_count": null,
   "metadata": {},
   "outputs": [],
   "source": [
    "# compact\n",
    "# # define pipeline\n",
    "# read_csv\n",
    "\n",
    "# number -> int and not float\n",
    "# every  string\n",
    "# clean.\n",
    "\n",
    "# save file"
   ]
  }
 ]
}
{
 "metadata": {
  "language_info": {
   "codemirror_mode": {
    "name": "ipython",
    "version": 3
   },
   "file_extension": ".py",
   "mimetype": "text/x-python",
   "name": "python",
   "nbconvert_exporter": "python",
   "pygments_lexer": "ipython3",
   "version": "3.8.5"
  },
  "orig_nbformat": 2,
  "kernelspec": {
   "name": "python385jvsc74a57bd057afa3c55199372cc74ce95ef8abe2f2d30a7accba4b0a9ba7456fa3ad07924a",
   "display_name": "Python 3.8.5 64-bit ('base': conda)"
  }
 },
 "nbformat": 4,
 "nbformat_minor": 2,
 "cells": [
  {
   "cell_type": "code",
   "execution_count": null,
   "metadata": {},
   "outputs": [],
   "source": [
    "# oop\n",
    "# fast and slow\n",
    "# data analysis"
   ]
  },
  {
   "cell_type": "code",
   "execution_count": 6,
   "metadata": {},
   "outputs": [
    {
     "output_type": "stream",
     "name": "stdout",
     "text": [
      "<class 'int'>\n<class 'type'>\nwelcome\n<class '__main__.Animal'>\n"
     ]
    }
   ],
   "source": [
    "# Object oriented program\n",
    "print(type(1))\n",
    "print(type(int))\n",
    "print('welcome')\n",
    "\n",
    "class Animal:\n",
    "    pass\n",
    "\n",
    "print(Animal)"
   ]
  },
  {
   "cell_type": "code",
   "execution_count": null,
   "metadata": {},
   "outputs": [],
   "source": [
    "# functions that you need \n",
    "print()  # Output\n",
    "# dir()\n",
    "# help()\n",
    "# type()"
   ]
  },
  {
   "cell_type": "code",
   "execution_count": 7,
   "metadata": {},
   "outputs": [
    {
     "output_type": "stream",
     "name": "stdout",
     "text": [
      "My name is  False\nMy name is  False\nMy name is  0\n"
     ]
    }
   ],
   "source": [
    "# `dry concept\n",
    "# do not Repeat Yourself\n",
    "# concatenate\n",
    "variable = False  #placeholder any object\n",
    "number = 1\n",
    "boolean= False\n",
    "\n",
    "# print('My name is variable')\n",
    "# print('variable is here')\n",
    "# print('variable like python')\n",
    "# print('is he variable')\n",
    "# print('variable like python')\n",
    "# print('is he variable')\n",
    "\n",
    "\n",
    "# concatenate strings \n",
    "# print('My name is' +' ' + variable)\n",
    "print(f'My name is  {variable}')\n",
    "print('My name is  {}'.format(variable))\n",
    "print('My name is  %' %variable)\n"
   ]
  },
  {
   "cell_type": "code",
   "execution_count": 2,
   "metadata": {},
   "outputs": [
    {
     "output_type": "stream",
     "name": "stdout",
     "text": [
      "Ademola\n"
     ]
    }
   ],
   "source": [
    "_demola = 'Xemola'\n",
    "Demola = 'Xemola'\n",
    "demola = 'Xemola'\n",
    "_ = 'Xemola' #\n",
    "# 1varible = 'Xemola' # < Error\n",
    "a,_ = 'Ademola', 'Ade' # unpacking\n",
    "print(a)\n",
    "# print(b)"
   ]
  },
  {
   "cell_type": "code",
   "execution_count": 10,
   "metadata": {},
   "outputs": [],
   "source": [
    "# import this"
   ]
  },
  {
   "cell_type": "code",
   "execution_count": 23,
   "metadata": {},
   "outputs": [
    {
     "output_type": "stream",
     "name": "stdout",
     "text": [
      "<class 'int'>\n<class 'int'>\n<class 'float'>\n<class 'str'>\n<class 'str'>\n<class 'bool'>\n<class 'bool'>\n"
     ]
    }
   ],
   "source": [
    "# Data Types \n",
    "# primitive. ---> int str bool Floats \n",
    "# Non-primitve --> tuple sets dict, list, Namedtuples Orderdict, deque, Frozensets\n",
    "\n",
    "integer = 1\n",
    "integer2 = 3000\n",
    "integer3 = 10.00\n",
    "\n",
    "\n",
    "Strings = 'I am STRING'\n",
    "Strings2 = \"I am STRING\"\n",
    "\n",
    "\n",
    "booolean1 = True\n",
    "booolean2 = False\n",
    "\n",
    "\n",
    "print(type(integer))\n",
    "print(type(integer2))\n",
    "print(type(integer3))\n",
    "print(type(Strings))\n",
    "print(type(Strings2))\n",
    "print(type(booolean1))"
   ]
  },
  {
   "cell_type": "code",
   "execution_count": 39,
   "metadata": {},
   "outputs": [
    {
     "output_type": "stream",
     "name": "stdout",
     "text": [
      "<class 'int'>\n1\n"
     ]
    }
   ],
   "source": [
    "# integer4 = '3000'\n",
    "# print(type(integer4))\n",
    "\n",
    "# new_interger = int(integer4)\n",
    "# print(type(new_interger))\n",
    "\n",
    "\n",
    "# new_string = str(integer4)\n",
    "# print(type(new_string))\n",
    "\n",
    "new_digit = True\n",
    "new_bool = int(new_digit)\n",
    "print(type(float(new_digit)))\n",
    "print(new_bool)\n"
   ]
  },
  {
   "cell_type": "code",
   "execution_count": 54,
   "metadata": {},
   "outputs": [
    {
     "output_type": "stream",
     "name": "stdout",
     "text": [
      "Ade first\ndoe\n10\nm\nmanager fourth\n"
     ]
    }
   ],
   "source": [
    "# Employee Saidatech ---> First_name  last_name Age gender position 20employees\n",
    "first_name = 'john'\n",
    "last_name = 'doe'\n",
    "age = 10\n",
    "gender = 'm'\n",
    "position = 'Manger'\n",
    "\n",
    "\n",
    "Employee1 = ['john', 'doe',10,'m', 'manager'] # list\n",
    "# Employee1 = ['john', 'doe',10,'m', 'manager'] # list\n",
    "# Employee1 = ['john', 'doe',10,'m', 'manager'] # list\n",
    "# Employee1 = ['john', 'doe',10,'m', 'manager'] # list\n",
    "# Employee1 = ['john', 'doe',10,'m', 'manager'] # list\n",
    "# Employee1 = ['john', 'doe',10,'m', 'manager'] # list\n",
    "# Employee1 = ['john', 'doe',10,'m', 'manager'] # list\n",
    "\n",
    "# mutable and iterable\n",
    "Employee1[0] = 'Ade'\n",
    "print(Employee1[0], 'first')\n",
    "print(Employee1[1])\n",
    "print(Employee1[2])\n",
    "print(Employee1[3])\n",
    "print(Employee1[4], 'fourth')\n",
    "\n",
    "# for index, value in enumerate(Employee1):\n",
    "#     # print(index, value)\n",
    "#     print(Employee1[index], index)\n"
   ]
  },
  {
   "cell_type": "code",
   "execution_count": 49,
   "metadata": {},
   "outputs": [
    {
     "output_type": "stream",
     "name": "stdout",
     "text": [
      "john doe\njohn doe\n"
     ]
    }
   ],
   "source": [
    "print(f'{first_name} {last_name}')\n",
    "print(f'{Employee1[0]} {Employee1[1]}')"
   ]
  },
  {
   "cell_type": "code",
   "execution_count": 67,
   "metadata": {},
   "outputs": [
    {
     "output_type": "stream",
     "name": "stdout",
     "text": [
      "Help on class str in module builtins:\n\nclass str(object)\n |  str(object='') -> str\n |  str(bytes_or_buffer[, encoding[, errors]]) -> str\n |  \n |  Create a new string object from the given object. If encoding or\n |  errors is specified, then the object must expose a data buffer\n |  that will be decoded using the given encoding and error handler.\n |  Otherwise, returns the result of object.__str__() (if defined)\n |  or repr(object).\n |  encoding defaults to sys.getdefaultencoding().\n |  errors defaults to 'strict'.\n |  \n |  Methods defined here:\n |  \n |  __add__(self, value, /)\n |      Return self+value.\n |  \n |  __contains__(self, key, /)\n |      Return key in self.\n |  \n |  __eq__(self, value, /)\n |      Return self==value.\n |  \n |  __format__(self, format_spec, /)\n |      Return a formatted version of the string as described by format_spec.\n |  \n |  __ge__(self, value, /)\n |      Return self>=value.\n |  \n |  __getattribute__(self, name, /)\n |      Return getattr(self, name).\n |  \n |  __getitem__(self, key, /)\n |      Return self[key].\n |  \n |  __getnewargs__(...)\n |  \n |  __gt__(self, value, /)\n |      Return self>value.\n |  \n |  __hash__(self, /)\n |      Return hash(self).\n |  \n |  __iter__(self, /)\n |      Implement iter(self).\n |  \n |  __le__(self, value, /)\n |      Return self<=value.\n |  \n |  __len__(self, /)\n |      Return len(self).\n |  \n |  __lt__(self, value, /)\n |      Return self<value.\n |  \n |  __mod__(self, value, /)\n |      Return self%value.\n |  \n |  __mul__(self, value, /)\n |      Return self*value.\n |  \n |  __ne__(self, value, /)\n |      Return self!=value.\n |  \n |  __repr__(self, /)\n |      Return repr(self).\n |  \n |  __rmod__(self, value, /)\n |      Return value%self.\n |  \n |  __rmul__(self, value, /)\n |      Return value*self.\n |  \n |  __sizeof__(self, /)\n |      Return the size of the string in memory, in bytes.\n |  \n |  __str__(self, /)\n |      Return str(self).\n |  \n |  capitalize(self, /)\n |      Return a capitalized version of the string.\n |      \n |      More specifically, make the first character have upper case and the rest lower\n |      case.\n |  \n |  casefold(self, /)\n |      Return a version of the string suitable for caseless comparisons.\n |  \n |  center(self, width, fillchar=' ', /)\n |      Return a centered string of length width.\n |      \n |      Padding is done using the specified fill character (default is a space).\n |  \n |  count(...)\n |      S.count(sub[, start[, end]]) -> int\n |      \n |      Return the number of non-overlapping occurrences of substring sub in\n |      string S[start:end].  Optional arguments start and end are\n |      interpreted as in slice notation.\n |  \n |  encode(self, /, encoding='utf-8', errors='strict')\n |      Encode the string using the codec registered for encoding.\n |      \n |      encoding\n |        The encoding in which to encode the string.\n |      errors\n |        The error handling scheme to use for encoding errors.\n |        The default is 'strict' meaning that encoding errors raise a\n |        UnicodeEncodeError.  Other possible values are 'ignore', 'replace' and\n |        'xmlcharrefreplace' as well as any other name registered with\n |        codecs.register_error that can handle UnicodeEncodeErrors.\n |  \n |  endswith(...)\n |      S.endswith(suffix[, start[, end]]) -> bool\n |      \n |      Return True if S ends with the specified suffix, False otherwise.\n |      With optional start, test S beginning at that position.\n |      With optional end, stop comparing S at that position.\n |      suffix can also be a tuple of strings to try.\n |  \n |  expandtabs(self, /, tabsize=8)\n |      Return a copy where all tab characters are expanded using spaces.\n |      \n |      If tabsize is not given, a tab size of 8 characters is assumed.\n |  \n |  find(...)\n |      S.find(sub[, start[, end]]) -> int\n |      \n |      Return the lowest index in S where substring sub is found,\n |      such that sub is contained within S[start:end].  Optional\n |      arguments start and end are interpreted as in slice notation.\n |      \n |      Return -1 on failure.\n |  \n |  format(...)\n |      S.format(*args, **kwargs) -> str\n |      \n |      Return a formatted version of S, using substitutions from args and kwargs.\n |      The substitutions are identified by braces ('{' and '}').\n |  \n |  format_map(...)\n |      S.format_map(mapping) -> str\n |      \n |      Return a formatted version of S, using substitutions from mapping.\n |      The substitutions are identified by braces ('{' and '}').\n |  \n |  index(...)\n |      S.index(sub[, start[, end]]) -> int\n |      \n |      Return the lowest index in S where substring sub is found,\n |      such that sub is contained within S[start:end].  Optional\n |      arguments start and end are interpreted as in slice notation.\n |      \n |      Raises ValueError when the substring is not found.\n |  \n |  isalnum(self, /)\n |      Return True if the string is an alpha-numeric string, False otherwise.\n |      \n |      A string is alpha-numeric if all characters in the string are alpha-numeric and\n |      there is at least one character in the string.\n |  \n |  isalpha(self, /)\n |      Return True if the string is an alphabetic string, False otherwise.\n |      \n |      A string is alphabetic if all characters in the string are alphabetic and there\n |      is at least one character in the string.\n |  \n |  isascii(self, /)\n |      Return True if all characters in the string are ASCII, False otherwise.\n |      \n |      ASCII characters have code points in the range U+0000-U+007F.\n |      Empty string is ASCII too.\n |  \n |  isdecimal(self, /)\n |      Return True if the string is a decimal string, False otherwise.\n |      \n |      A string is a decimal string if all characters in the string are decimal and\n |      there is at least one character in the string.\n |  \n |  isdigit(self, /)\n |      Return True if the string is a digit string, False otherwise.\n |      \n |      A string is a digit string if all characters in the string are digits and there\n |      is at least one character in the string.\n |  \n |  isidentifier(self, /)\n |      Return True if the string is a valid Python identifier, False otherwise.\n |      \n |      Call keyword.iskeyword(s) to test whether string s is a reserved identifier,\n |      such as \"def\" or \"class\".\n |  \n |  islower(self, /)\n |      Return True if the string is a lowercase string, False otherwise.\n |      \n |      A string is lowercase if all cased characters in the string are lowercase and\n |      there is at least one cased character in the string.\n |  \n |  isnumeric(self, /)\n |      Return True if the string is a numeric string, False otherwise.\n |      \n |      A string is numeric if all characters in the string are numeric and there is at\n |      least one character in the string.\n |  \n |  isprintable(self, /)\n |      Return True if the string is printable, False otherwise.\n |      \n |      A string is printable if all of its characters are considered printable in\n |      repr() or if it is empty.\n |  \n |  isspace(self, /)\n |      Return True if the string is a whitespace string, False otherwise.\n |      \n |      A string is whitespace if all characters in the string are whitespace and there\n |      is at least one character in the string.\n |  \n |  istitle(self, /)\n |      Return True if the string is a title-cased string, False otherwise.\n |      \n |      In a title-cased string, upper- and title-case characters may only\n |      follow uncased characters and lowercase characters only cased ones.\n |  \n |  isupper(self, /)\n |      Return True if the string is an uppercase string, False otherwise.\n |      \n |      A string is uppercase if all cased characters in the string are uppercase and\n |      there is at least one cased character in the string.\n |  \n |  join(self, iterable, /)\n |      Concatenate any number of strings.\n |      \n |      The string whose method is called is inserted in between each given string.\n |      The result is returned as a new string.\n |      \n |      Example: '.'.join(['ab', 'pq', 'rs']) -> 'ab.pq.rs'\n |  \n |  ljust(self, width, fillchar=' ', /)\n |      Return a left-justified string of length width.\n |      \n |      Padding is done using the specified fill character (default is a space).\n |  \n |  lower(self, /)\n |      Return a copy of the string converted to lowercase.\n |  \n |  lstrip(self, chars=None, /)\n |      Return a copy of the string with leading whitespace removed.\n |      \n |      If chars is given and not None, remove characters in chars instead.\n |  \n |  partition(self, sep, /)\n |      Partition the string into three parts using the given separator.\n |      \n |      This will search for the separator in the string.  If the separator is found,\n |      returns a 3-tuple containing the part before the separator, the separator\n |      itself, and the part after it.\n |      \n |      If the separator is not found, returns a 3-tuple containing the original string\n |      and two empty strings.\n |  \n |  replace(self, old, new, count=-1, /)\n |      Return a copy with all occurrences of substring old replaced by new.\n |      \n |        count\n |          Maximum number of occurrences to replace.\n |          -1 (the default value) means replace all occurrences.\n |      \n |      If the optional argument count is given, only the first count occurrences are\n |      replaced.\n |  \n |  rfind(...)\n |      S.rfind(sub[, start[, end]]) -> int\n |      \n |      Return the highest index in S where substring sub is found,\n |      such that sub is contained within S[start:end].  Optional\n |      arguments start and end are interpreted as in slice notation.\n |      \n |      Return -1 on failure.\n |  \n |  rindex(...)\n |      S.rindex(sub[, start[, end]]) -> int\n |      \n |      Return the highest index in S where substring sub is found,\n |      such that sub is contained within S[start:end].  Optional\n |      arguments start and end are interpreted as in slice notation.\n |      \n |      Raises ValueError when the substring is not found.\n |  \n |  rjust(self, width, fillchar=' ', /)\n |      Return a right-justified string of length width.\n |      \n |      Padding is done using the specified fill character (default is a space).\n |  \n |  rpartition(self, sep, /)\n |      Partition the string into three parts using the given separator.\n |      \n |      This will search for the separator in the string, starting at the end. If\n |      the separator is found, returns a 3-tuple containing the part before the\n |      separator, the separator itself, and the part after it.\n |      \n |      If the separator is not found, returns a 3-tuple containing two empty strings\n |      and the original string.\n |  \n |  rsplit(self, /, sep=None, maxsplit=-1)\n |      Return a list of the words in the string, using sep as the delimiter string.\n |      \n |        sep\n |          The delimiter according which to split the string.\n |          None (the default value) means split according to any whitespace,\n |          and discard empty strings from the result.\n |        maxsplit\n |          Maximum number of splits to do.\n |          -1 (the default value) means no limit.\n |      \n |      Splits are done starting at the end of the string and working to the front.\n |  \n |  rstrip(self, chars=None, /)\n |      Return a copy of the string with trailing whitespace removed.\n |      \n |      If chars is given and not None, remove characters in chars instead.\n |  \n |  split(self, /, sep=None, maxsplit=-1)\n |      Return a list of the words in the string, using sep as the delimiter string.\n |      \n |      sep\n |        The delimiter according which to split the string.\n |        None (the default value) means split according to any whitespace,\n |        and discard empty strings from the result.\n |      maxsplit\n |        Maximum number of splits to do.\n |        -1 (the default value) means no limit.\n |  \n |  splitlines(self, /, keepends=False)\n |      Return a list of the lines in the string, breaking at line boundaries.\n |      \n |      Line breaks are not included in the resulting list unless keepends is given and\n |      true.\n |  \n |  startswith(...)\n |      S.startswith(prefix[, start[, end]]) -> bool\n |      \n |      Return True if S starts with the specified prefix, False otherwise.\n |      With optional start, test S beginning at that position.\n |      With optional end, stop comparing S at that position.\n |      prefix can also be a tuple of strings to try.\n |  \n |  strip(self, chars=None, /)\n |      Return a copy of the string with leading and trailing whitespace removed.\n |      \n |      If chars is given and not None, remove characters in chars instead.\n |  \n |  swapcase(self, /)\n |      Convert uppercase characters to lowercase and lowercase characters to uppercase.\n |  \n |  title(self, /)\n |      Return a version of the string where each word is titlecased.\n |      \n |      More specifically, words start with uppercased characters and all remaining\n |      cased characters have lower case.\n |  \n |  translate(self, table, /)\n |      Replace each character in the string using the given translation table.\n |      \n |        table\n |          Translation table, which must be a mapping of Unicode ordinals to\n |          Unicode ordinals, strings, or None.\n |      \n |      The table must implement lookup/indexing via __getitem__, for instance a\n |      dictionary or list.  If this operation raises LookupError, the character is\n |      left untouched.  Characters mapped to None are deleted.\n |  \n |  upper(self, /)\n |      Return a copy of the string converted to uppercase.\n |  \n |  zfill(self, width, /)\n |      Pad a numeric string with zeros on the left, to fill a field of the given width.\n |      \n |      The string is never truncated.\n |  \n |  ----------------------------------------------------------------------\n |  Static methods defined here:\n |  \n |  __new__(*args, **kwargs) from builtins.type\n |      Create and return a new object.  See help(type) for accurate signature.\n |  \n |  maketrans(...)\n |      Return a translation table usable for str.translate().\n |      \n |      If there is only one argument, it must be a dictionary mapping Unicode\n |      ordinals (integers) or characters to Unicode ordinals, strings or None.\n |      Character keys will be then converted to ordinals.\n |      If there are two arguments, they must be strings of equal length, and\n |      in the resulting dictionary, each character in x will be mapped to the\n |      character at the same position in y. If there is a third argument, it\n |      must be a string, whose characters will be mapped to None in the result.\n\nNone\n"
     ]
    }
   ],
   "source": [
    "# print(type(Employee1))\n",
    "# print(dir(Employee1))\n",
    "# print('*' * 20)\n",
    "# print(type(str))\n",
    "# print(dir(str))\n",
    "print(help(str))\n",
    "# print(dir(str))\n",
    "# dir()  #\n",
    "# dir()  #"
   ]
  },
  {
   "cell_type": "code",
   "execution_count": 68,
   "metadata": {},
   "outputs": [
    {
     "output_type": "stream",
     "name": "stdout",
     "text": [
      "['__add__', '__class__', '__contains__', '__delattr__', '__dir__', '__doc__', '__eq__', '__format__', '__ge__', '__getattribute__', '__getitem__', '__getnewargs__', '__gt__', '__hash__', '__init__', '__init_subclass__', '__iter__', '__le__', '__len__', '__lt__', '__mod__', '__mul__', '__ne__', '__new__', '__reduce__', '__reduce_ex__', '__repr__', '__rmod__', '__rmul__', '__setattr__', '__sizeof__', '__str__', '__subclasshook__', 'capitalize', 'casefold', 'center', 'count', 'encode', 'endswith', 'expandtabs', 'find', 'format', 'format_map', 'index', 'isalnum', 'isalpha', 'isascii', 'isdecimal', 'isdigit', 'isidentifier', 'islower', 'isnumeric', 'isprintable', 'isspace', 'istitle', 'isupper', 'join', 'ljust', 'lower', 'lstrip', 'maketrans', 'partition', 'replace', 'rfind', 'rindex', 'rjust', 'rpartition', 'rsplit', 'rstrip', 'split', 'splitlines', 'startswith', 'strip', 'swapcase', 'title', 'translate', 'upper', 'zfill']\n"
     ]
    }
   ],
   "source": [
    "print(dir(str))\n"
   ]
  },
  {
   "cell_type": "code",
   "execution_count": 69,
   "metadata": {},
   "outputs": [
    {
     "output_type": "stream",
     "name": "stdout",
     "text": [
      "<class 'str'>\n"
     ]
    }
   ],
   "source": [
    "#casting <-----\n",
    "a = 10\n",
    "\n",
    "new_a = str(a)\n",
    "print(type(new_a))"
   ]
  },
  {
   "cell_type": "code",
   "execution_count": null,
   "metadata": {},
   "outputs": [],
   "source": []
  }
 ]
}
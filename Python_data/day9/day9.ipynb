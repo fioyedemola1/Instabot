{
 "metadata": {
  "language_info": {
   "codemirror_mode": {
    "name": "ipython",
    "version": 3
   },
   "file_extension": ".py",
   "mimetype": "text/x-python",
   "name": "python",
   "nbconvert_exporter": "python",
   "pygments_lexer": "ipython3",
   "version": "3.9.1"
  },
  "orig_nbformat": 2,
  "kernelspec": {
   "name": "python391jvsc74a57bd0397704579725e15f5c7cb49fe5f0341eb7531c82d19f2c29d197e8b64ab5776b",
   "display_name": "Python 3.9.1 64-bit"
  },
  "metadata": {
   "interpreter": {
    "hash": "397704579725e15f5c7cb49fe5f0341eb7531c82d19f2c29d197e8b64ab5776b"
   }
  }
 },
 "nbformat": 4,
 "nbformat_minor": 2,
 "cells": [
  {
   "cell_type": "code",
   "execution_count": null,
   "metadata": {},
   "outputs": [],
   "source": [
    "#4 foundations oop \n",
    "# Abstraction\n",
    "# encapsulation\n",
    "# Inheritance\n",
    "# polymorphispm\n",
    "\n"
   ]
  },
  {
   "cell_type": "code",
   "execution_count": null,
   "metadata": {},
   "outputs": [],
   "source": [
    "# template\n",
    "\n",
    "class Myclass:\n",
    "    pass\n"
   ]
  },
  {
   "cell_type": "code",
   "execution_count": 4,
   "metadata": {},
   "outputs": [],
   "source": [
    "level_bonus = {\n",
    "    1: 0.1,\n",
    "    2:0.15,\n",
    "    3: 0.2\n",
    "}\n",
    "\n",
    "\n",
    "employee1 = {\n",
    "    'name':'ade',\n",
    "    'age': '10',\n",
    "    'level': 1,\n",
    "    'salary': 1000\n",
    "\n",
    "}\n",
    "\n",
    "# pension\n",
    "# tax\n",
    "# bonus\n",
    "\n",
    "def bonus(employee,level_bon):\n",
    "    salary = employee.get('salary')\n",
    "    level = employee.get('level')\n",
    "    bon = level_bonus.get(level)\n",
    "    return salary* bon\n",
    "    \n",
    "    \n",
    "\n",
    "\n",
    "def tax(name,amount):\n",
    "    pass\n",
    "\n",
    "\n",
    "def pension(name,amount):\n",
    "    pass\n",
    "\n",
    "\n"
   ]
  },
  {
   "cell_type": "code",
   "execution_count": 6,
   "metadata": {},
   "outputs": [],
   "source": [
    "employee1['bonus']= bonus(employee1, level_bonus)"
   ]
  },
  {
   "cell_type": "code",
   "execution_count": 7,
   "metadata": {},
   "outputs": [
    {
     "output_type": "execute_result",
     "data": {
      "text/plain": [
       "{'name': 'ade', 'age': '10', 'level': 1, 'salary': 1000, 'bonus': 100.0}"
      ]
     },
     "metadata": {},
     "execution_count": 7
    }
   ],
   "source": [
    "employee1"
   ]
  },
  {
   "cell_type": "code",
   "execution_count": 77,
   "metadata": {},
   "outputs": [],
   "source": [
    "class Employee:\n",
    "    # contructor\n",
    "    organinsation = None\n",
    "\n",
    "    def __init__(self,name,age,level,salary):\n",
    "        self.name = name  #attribute of the instance of the class\n",
    "        self.age = age\n",
    "        self.level = level\n",
    "        self.salary = salary\n",
    "        \n",
    "    \n",
    "    def __repr__(self):\n",
    "        return f'this is my {self.name}'\n",
    "\n",
    "    def bonus(self,bonus_rank):\n",
    "        bon = bonus_rank.get(self.level)\n",
    "        return self.salary * bon\n",
    "    \n",
    "    @property\n",
    "    def tax(self):\n",
    "        tax = 0.2\n",
    "        return self.salary * tax\n",
    "    @property\n",
    "    def email(self):\n",
    "        return f'{self.name}@{self.organinsation}.com'\n",
    "\n",
    "# dunder or magic  double underscore\n"
   ]
  },
  {
   "cell_type": "code",
   "execution_count": 74,
   "metadata": {},
   "outputs": [],
   "source": [
    "new_employee1 = Employee('ade',10,2,1000) # instantiation\n",
    "new_employee2 = Employee('andy',10,1,2000) # instantiation\n",
    "new_employee3 = Employee('toby',10,8,10000) # instantiation\n",
    "new_employee4 = Employee('moses',10,3,9000) # instantiation\n",
    "new_employee5 = Employee('sam',10,3,800) # instantiation\n",
    "new_employee6 = Employee('John',10,12,1900) # instantiation"
   ]
  },
  {
   "cell_type": "code",
   "execution_count": 75,
   "metadata": {},
   "outputs": [
    {
     "output_type": "execute_result",
     "data": {
      "text/plain": [
       "950.0"
      ]
     },
     "metadata": {},
     "execution_count": 75
    }
   ],
   "source": [
    "level_bonus = {\n",
    "    1: 0.1,\n",
    "    2:0.15,\n",
    "    3: 0.2,\n",
    "    12: 0.5,\n",
    "    8: 0.4\n",
    "}\n",
    "new_employee6.bonus(level_bonus)"
   ]
  },
  {
   "cell_type": "code",
   "execution_count": 76,
   "metadata": {},
   "outputs": [
    {
     "output_type": "execute_result",
     "data": {
      "text/plain": [
       "'ade@Saidatech.com'"
      ]
     },
     "metadata": {},
     "execution_count": 76
    }
   ],
   "source": [
    "new_employee1.email"
   ]
  },
  {
   "cell_type": "code",
   "execution_count": null,
   "metadata": {},
   "outputs": [],
   "source": []
  },
  {
   "cell_type": "code",
   "execution_count": 52,
   "metadata": {},
   "outputs": [
    {
     "output_type": "execute_result",
     "data": {
      "text/plain": [
       "True"
      ]
     },
     "metadata": {},
     "execution_count": 52
    }
   ],
   "source": [
    "Employee('ade',10,2,1000).age\n",
    "\n",
    "\n",
    "sam = Employee('ade',10,2,1000)\n",
    "sam.age == Employee('ade',10,2,1000).age"
   ]
  },
  {
   "cell_type": "code",
   "execution_count": 51,
   "metadata": {},
   "outputs": [
    {
     "output_type": "stream",
     "name": "stderr",
     "text": [
      "<>:3: SyntaxWarning: \"is\" with a literal. Did you mean \"==\"?\n<>:3: SyntaxWarning: \"is\" with a literal. Did you mean \"==\"?\n<ipython-input-51-3198e655189c>:3: SyntaxWarning: \"is\" with a literal. Did you mean \"==\"?\n  1 is 1\n"
     ]
    },
    {
     "output_type": "execute_result",
     "data": {
      "text/plain": [
       "True"
      ]
     },
     "metadata": {},
     "execution_count": 51
    }
   ],
   "source": [
    "num = 1\n",
    "\n",
    "1 is 1"
   ]
  },
  {
   "cell_type": "code",
   "execution_count": 98,
   "metadata": {},
   "outputs": [],
   "source": [
    "# dry. departmentc coy --> employeee\n",
    "class Marketing(Employee):\n",
    "    pass\n",
    "    \n",
    "class HR(Employee):\n",
    "    pass\n",
    "    \n",
    "class Production(Employee):\n",
    "    \n",
    "    def target_bonus(self):\n",
    "        return self.salary * 0.1\n",
    "    \n",
    "class It(Employee):\n",
    "    \n",
    "    def email(self): # overiding the method parent class\n",
    "        return f'{self.name}@it.com'\n",
    "    "
   ]
  },
  {
   "cell_type": "code",
   "execution_count": 100,
   "metadata": {},
   "outputs": [
    {
     "output_type": "error",
     "ename": "AttributeError",
     "evalue": "'Marketing' object has no attribute 'target_bonus'",
     "traceback": [
      "\u001b[0;31m---------------------------------------------------------------------------\u001b[0m",
      "\u001b[0;31mAttributeError\u001b[0m                            Traceback (most recent call last)",
      "\u001b[0;32m<ipython-input-100-9eaeadce1079>\u001b[0m in \u001b[0;36m<module>\u001b[0;34m\u001b[0m\n\u001b[1;32m      1\u001b[0m \u001b[0mmarkerter1\u001b[0m \u001b[0;34m=\u001b[0m \u001b[0mMarketing\u001b[0m\u001b[0;34m(\u001b[0m\u001b[0;34m'john doe'\u001b[0m\u001b[0;34m,\u001b[0m \u001b[0;36m10\u001b[0m\u001b[0;34m,\u001b[0m\u001b[0;36m3\u001b[0m\u001b[0;34m,\u001b[0m\u001b[0;36m20000\u001b[0m\u001b[0;34m)\u001b[0m\u001b[0;34m\u001b[0m\u001b[0;34m\u001b[0m\u001b[0m\n\u001b[0;32m----> 2\u001b[0;31m \u001b[0mmarkerter1\u001b[0m\u001b[0;34m.\u001b[0m\u001b[0mtarget_bonus\u001b[0m\u001b[0;34m(\u001b[0m\u001b[0;34m)\u001b[0m\u001b[0;34m\u001b[0m\u001b[0;34m\u001b[0m\u001b[0m\n\u001b[0m",
      "\u001b[0;31mAttributeError\u001b[0m: 'Marketing' object has no attribute 'target_bonus'"
     ]
    }
   ],
   "source": [
    "markerter1 = Marketing('john doe', 10,3,20000)\n",
    "markerter1.target_bonus()"
   ]
  },
  {
   "cell_type": "code",
   "execution_count": 83,
   "metadata": {},
   "outputs": [
    {
     "output_type": "execute_result",
     "data": {
      "text/plain": [
       "4000.0"
      ]
     },
     "metadata": {},
     "execution_count": 83
    }
   ],
   "source": [
    "# markerter1.bonus(level_bonus)\n",
    "markerter1.tax"
   ]
  },
  {
   "cell_type": "code",
   "execution_count": 89,
   "metadata": {},
   "outputs": [],
   "source": [
    "It1 = It('john doe', 10,3,20000)"
   ]
  },
  {
   "cell_type": "code",
   "execution_count": 93,
   "metadata": {},
   "outputs": [
    {
     "output_type": "execute_result",
     "data": {
      "text/plain": [
       "'john doe@it.com'"
      ]
     },
     "metadata": {},
     "execution_count": 93
    }
   ],
   "source": [
    "It1.email()"
   ]
  },
  {
   "cell_type": "code",
   "execution_count": 99,
   "metadata": {},
   "outputs": [
    {
     "output_type": "execute_result",
     "data": {
      "text/plain": [
       "2000.0"
      ]
     },
     "metadata": {},
     "execution_count": 99
    }
   ],
   "source": [
    "product = Production('john doe', 10,3,20000)\n",
    "product.target_bonus()"
   ]
  },
  {
   "cell_type": "code",
   "execution_count": 131,
   "metadata": {},
   "outputs": [],
   "source": [
    "class Employee:\n",
    "    # contructor\n",
    "    info = {}\n",
    "\n",
    "    def __init__(self,*kwargs):\n",
    "        for i in kwargs:\n",
    "            self.info.update(i)\n",
    "    \n",
    "    def __repr__(self):\n",
    "        return f'this is my {self.info[\"name\"]}'\n",
    "\n",
    "    def bonus(self,bonus_rank):\n",
    "        bon = self.info.get('level')\n",
    "        return self.info.get('salary') * bon\n",
    "    \n",
    "    @property\n",
    "    def tax(self):\n",
    "        tax = 0.2\n",
    "        return self.info.get('salary') * tax\n",
    "    @property\n",
    "    def email(self):\n",
    "        return f'{self.name}@{self.organinsation}.com'\n"
   ]
  },
  {
   "cell_type": "code",
   "execution_count": 132,
   "metadata": {},
   "outputs": [],
   "source": [
    "a = Employee({'name':'ade'}, {'age':'10'},{'level':1},{'salary' :1000})"
   ]
  },
  {
   "cell_type": "code",
   "execution_count": 133,
   "metadata": {},
   "outputs": [
    {
     "output_type": "execute_result",
     "data": {
      "text/plain": [
       "{'name': 'ade', 'age': '10', 'level': 1, 'salary': 1000}"
      ]
     },
     "metadata": {},
     "execution_count": 133
    }
   ],
   "source": [
    "a.info"
   ]
  },
  {
   "cell_type": "code",
   "execution_count": 134,
   "metadata": {},
   "outputs": [
    {
     "output_type": "execute_result",
     "data": {
      "text/plain": [
       "1000"
      ]
     },
     "metadata": {},
     "execution_count": 134
    }
   ],
   "source": [
    "a.bonus(level_bonus)"
   ]
  },
  {
   "cell_type": "code",
   "execution_count": null,
   "metadata": {},
   "outputs": [],
   "source": [
    "name,shares,price\n",
    "\"AA\",100,32.20\n",
    "\"IBM\",50,91.10\n",
    "\"CAT\",150,83.44\n",
    "\"MSFT\",200,51.23\n",
    "\"GE\",95,40.37\n",
    "\"MSFT\",50,65.10\n",
    "\"IBM\",100,70.44\n"
   ]
  },
  {
   "cell_type": "code",
   "execution_count": null,
   "metadata": {},
   "outputs": [],
   "source": [
    "# read\n",
    "# heading Title Name Shares, Price\n",
    "# lowercase name porfolio\n",
    "# what is my total share value porfolio of 'Ibm ---> 50+100\n",
    "# what is my total price of my portfolio 'Ibm ---> 91.10 +70.44\n"
   ]
  },
  {
   "cell_type": "code",
   "execution_count": null,
   "metadata": {},
   "outputs": [],
   "source": [
    "class Name:\n",
    "    def __init__(self, file):\n",
    "        self.file = file\n",
    "\n",
    "    def read(self):\n",
    "        #  read\n",
    "        # heading Title Name Shares, Price\n",
    "        # lowercase name porfolio. standard\n",
    "        pass\n",
    "    def share_value(self,stock_name):\n",
    "        new_stock = stock_name.lower()\n",
    "        pass\n",
    "    \n",
    "    def share_price(self, stock_name):\n",
    "        pass\n",
    "  \n"
   ]
  },
  {
   "cell_type": "code",
   "execution_count": 135,
   "metadata": {},
   "outputs": [],
   "source": [
    "with open('practice.xlsx', 'wt') as file:  #\n",
    "    file.write('1,2,3,4,5')\n"
   ]
  },
  {
   "cell_type": "code",
   "execution_count": null,
   "metadata": {},
   "outputs": [],
   "source": [
    "my_stock= Name('location')\n",
    "\n",
    "name = imput()\n",
    "my_stock.share_value(name)\n",
    "my_stock.share_price('ibm')"
   ]
  }
 ]
}
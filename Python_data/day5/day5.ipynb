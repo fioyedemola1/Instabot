{
 "metadata": {
  "language_info": {
   "codemirror_mode": {
    "name": "ipython",
    "version": 3
   },
   "file_extension": ".py",
   "mimetype": "text/x-python",
   "name": "python",
   "nbconvert_exporter": "python",
   "pygments_lexer": "ipython3",
   "version": "3.8.5"
  },
  "orig_nbformat": 2,
  "kernelspec": {
   "name": "python385jvsc74a57bd057afa3c55199372cc74ce95ef8abe2f2d30a7accba4b0a9ba7456fa3ad07924a",
   "display_name": "Python 3.8.5 64-bit ('base': conda)"
  }
 },
 "nbformat": 4,
 "nbformat_minor": 2,
 "cells": [
  {
   "cell_type": "code",
   "execution_count": null,
   "metadata": {},
   "outputs": [],
   "source": [
    "my_list = [1,2,3,4,5,7,39]\n",
    "my_list1 = my_list[:2]\n",
    "my_list2 = my_list[2:]\n",
    "my_list3 = [my_list1,my_list2]\n",
    "my_list3"
   ]
  },
  {
   "cell_type": "code",
   "execution_count": null,
   "metadata": {},
   "outputs": [],
   "source": [
    "print('i have started')\n",
    "vowels = 'aeiou'\n",
    "s = 'this is great'\n",
    "\n",
    "ans = 0 # placeholders\n",
    "\n",
    "for i in s:\n",
    "    print(f'is {i} is in {vowels}')\n",
    "    if i in vowels:\n",
    "        print('i have found', i)\n",
    "        ans += 1\n",
    "print(ans)   "
   ]
  },
  {
   "cell_type": "code",
   "execution_count": null,
   "metadata": {},
   "outputs": [],
   "source": [
    "import time \n",
    "\n",
    "\n",
    "start= time.perf_counter()\n",
    "new_list = [x for x in range(0,1000000000)]\n",
    "end= time.perf_counter()\n",
    "print(end-start)\n",
    "\n",
    "\n",
    "# import time\n",
    "# def test(x):\n",
    "#     print('i am here', x)\n",
    "#     time.sleep(2)\n",
    "#     print('done sleeping')\n",
    "\n",
    "# num = [i for i in range(0,3)]\n",
    "# with concurrent.futures.ThreadPoolExecutor(max_workers=1) as executor:\n",
    "#     print(list(executor.map(test, num )))\n",
    "\n",
    "\n",
    "# # test(1)\n",
    "# # test(2)\n",
    "# # test(3)\n"
   ]
  },
  {
   "cell_type": "code",
   "execution_count": null,
   "metadata": {},
   "outputs": [],
   "source": [
    "# while and for loops\n",
    "while if a conditoion is true:  #<-- true\n",
    "    #  performs a block of code\n",
    "else: # if above false\n",
    "    performs\n",
    "\n",
    "for _ in iterable:  #<--- __iter__()\n",
    "    do something"
   ]
  },
  {
   "cell_type": "code",
   "execution_count": null,
   "metadata": {},
   "outputs": [],
   "source": [
    "# dir(list)\n",
    "hasattr(int, '__iter__')"
   ]
  },
  {
   "cell_type": "code",
   "execution_count": null,
   "metadata": {},
   "outputs": [],
   "source": [
    "\n",
    "class Animal:\n",
    "    legs = 0\n",
    "    eyes= 2"
   ]
  },
  {
   "cell_type": "code",
   "execution_count": null,
   "metadata": {},
   "outputs": [],
   "source": [
    "print(hasattr(Animal, 'legs'))\n",
    "dir()\n",
    "help()\n",
    "hasattr()"
   ]
  },
  {
   "cell_type": "code",
   "execution_count": null,
   "metadata": {},
   "outputs": [],
   "source": [
    "print(type(Animal))\n",
    "print(type(int))\n",
    "print(type(1))\n",
    "my_dict = {}"
   ]
  },
  {
   "cell_type": "code",
   "execution_count": null,
   "metadata": {},
   "outputs": [],
   "source": [
    "variable = False\n",
    "\n",
    "while variable: # if\n",
    "    print('it is True')\n",
    "    break\n",
    "\n",
    "else:\n",
    "    print('False')"
   ]
  },
  {
   "cell_type": "code",
   "execution_count": null,
   "metadata": {},
   "outputs": [],
   "source": [
    "# type --- build objects grandparent\n",
    "# type --->  int ---> 1\n",
    "# str\n",
    "# list\n",
    "# type ---> dict ---> my_dict\n",
    "# ...\n"
   ]
  },
  {
   "cell_type": "code",
   "execution_count": null,
   "metadata": {},
   "outputs": [],
   "source": [
    "new_list = [1,3,4,4,4,4,4,45,6]\n",
    "#  continue break pass ...\n",
    "\n",
    "# for x in new_list:\n",
    "#     if x != 4: # True  \n",
    "#         continue\n",
    "#     print(x)  \n",
    "\n",
    "anoher_list = [x for x in new_list if x == 4]\n",
    "print(anoher_list)\n",
    "# for i in new_list:\n",
    "#     pass"
   ]
  },
  {
   "cell_type": "code",
   "execution_count": null,
   "metadata": {},
   "outputs": [],
   "source": [
    "x if condition"
   ]
  },
  {
   "cell_type": "code",
   "execution_count": null,
   "metadata": {},
   "outputs": [],
   "source": [
    "# Dry\n",
    "\n",
    "new_list = ['sam', 'ade', 'lan', 'okay','another', 'another another', 'again']\n",
    "new_list2 = [1,2,3,4,5,6,7]\n",
    "new_list3 = [1,2,3,4,5,6,7]\n",
    "\n",
    "# for index in range(0,len(new_list)):\n",
    "#     print(new_list[index], new_list2[index])\n",
    "\n",
    "\n",
    "# enumerate\n",
    "\n",
    "# for indx, val in enumerate(new_list):\n",
    "#     print(new_list2[indx], val, indx)\n",
    "\n",
    "# zip\n",
    "for ls1, ls2, ls3 in zip(new_list, new_list2, new_list3):\n",
    "    print(ls1, ls2, ls3)\n"
   ]
  },
  {
   "cell_type": "code",
   "execution_count": null,
   "metadata": {},
   "outputs": [],
   "source": [
    "list(zip(new_list,new_list2, new_list3))"
   ]
  },
  {
   "cell_type": "code",
   "execution_count": null,
   "metadata": {},
   "outputs": [],
   "source": [
    "n = 10\n",
    "\n",
    "for i in range(0,n+1):\n",
    "    print('*' * i)"
   ]
  },
  {
   "cell_type": "code",
   "execution_count": null,
   "metadata": {},
   "outputs": [],
   "source": [
    " # Implement the loop  which takes an argument a sequence \n",
    "# and returns a list of items without any elements with the same value next \n",
    "# to each other and preserving the original order of elements.\n",
    "\n",
    "('AAAABBBCCDAABBBFA') == ['A', 'B', 'C', 'D', 'A', 'B','F','A'] # dates\n",
    "('ABBCcAD')         == ['A', 'B', 'C', 'c', 'A', 'D']\n",
    "([1,2,2,3,3,1])       == [1,2,3,1]\n",
    "\n"
   ]
  },
  {
   "cell_type": "code",
   "execution_count": null,
   "metadata": {},
   "outputs": [],
   "source": [
    "answer = []\n",
    "prev_value = []\n",
    "\n",
    "for i in 'AAAABBBCCDAA':\n",
    "    # print(f' this is i {i} ----> previous {prev_value}')\n",
    "    if i in prev_value:\n",
    "        # print(f' this is i {i} ----> previous {prev_value}')\n",
    "        continue\n",
    "    else:\n",
    "        answer.append(i) # list method\n",
    "        prev_value = i # reassign\n",
    "        # prev_value.append(i) # reassign\n",
    "\n",
    "answer"
   ]
  },
  {
   "cell_type": "code",
   "execution_count": null,
   "metadata": {},
   "outputs": [],
   "source": [
    "# gabage collection\n",
    "prev_value = None"
   ]
  },
  {
   "cell_type": "code",
   "execution_count": null,
   "metadata": {},
   "outputs": [],
   "source": [
    "prev_value = 'A' "
   ]
  },
  {
   "cell_type": "code",
   "execution_count": null,
   "metadata": {},
   "outputs": [],
   "source": [
    "a = []\n",
    "print(a)\n",
    "a.append('my new lisyt')\n",
    "print(a)\n",
    "a.append('my new lisyta')\n",
    "print(a)\n",
    "a = None\n",
    "print(a)\n"
   ]
  },
  {
   "cell_type": "code",
   "execution_count": null,
   "metadata": {},
   "outputs": [],
   "source": [
    "# pythonic \n",
    "\n",
    "val for val in iterable\n",
    "anoher_list = [x for x in new_list if x == 4]\n"
   ]
  },
  {
   "cell_type": "code",
   "execution_count": 4,
   "metadata": {
    "tags": []
   },
   "outputs": [],
   "source": [
    "# lazy vs eager\n",
    "# for  i in range(10):\n",
    "#     # at 3\n",
    "#     print(i)\n",
    "n = 2000003\n",
    "ranger = [ x for x in range(n)]\n",
    "gen = iter(ranger)\n",
    "\n",
    "# for i in gen:\n",
    "#     print(i)"
   ]
  },
  {
   "cell_type": "code",
   "execution_count": null,
   "metadata": {},
   "outputs": [],
   "source": [
    "print(next(gen))\n",
    "\n",
    "print('ok')\n",
    "\n",
    "print(next(gen))\n",
    "\n",
    "print('testing')\n",
    "print(next(gen))\n",
    "\n",
    "print('writing my code')\n",
    "print(next(gen))\n",
    "\n",
    "print('doint somethibg els')"
   ]
  },
  {
   "cell_type": "code",
   "execution_count": 5,
   "metadata": {},
   "outputs": [
    {
     "output_type": "stream",
     "name": "stdout",
     "text": [
      "17632624\n48\n"
     ]
    }
   ],
   "source": [
    "import sys\n",
    "\n",
    "print(sys.getsizeof(ranger ))\n",
    "print(sys.getsizeof(gen))"
   ]
  },
  {
   "cell_type": "code",
   "execution_count": null,
   "metadata": {},
   "outputs": [],
   "source": []
  }
 ]
}
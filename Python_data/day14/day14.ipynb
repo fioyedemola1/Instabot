{
 "cells": [
  {
   "cell_type": "code",
   "execution_count": 1,
   "metadata": {},
   "outputs": [],
   "source": [
    "import pandas as pd\n",
    "import numpy as np\n",
    "import matplotlib.pyplot as plt"
   ]
  },
  {
   "cell_type": "code",
   "execution_count": 137,
   "metadata": {},
   "outputs": [],
   "source": [
    "cl_df= pd.read_csv('cleaned_data.csv')"
   ]
  },
  {
   "cell_type": "code",
   "execution_count": 138,
   "metadata": {},
   "outputs": [
    {
     "data": {
      "text/html": [
       "<div>\n",
       "<style scoped>\n",
       "    .dataframe tbody tr th:only-of-type {\n",
       "        vertical-align: middle;\n",
       "    }\n",
       "\n",
       "    .dataframe tbody tr th {\n",
       "        vertical-align: top;\n",
       "    }\n",
       "\n",
       "    .dataframe thead th {\n",
       "        text-align: right;\n",
       "    }\n",
       "</style>\n",
       "<table border=\"1\" class=\"dataframe\">\n",
       "  <thead>\n",
       "    <tr style=\"text-align: right;\">\n",
       "      <th></th>\n",
       "      <th>Unnamed: 0</th>\n",
       "      <th>order_id</th>\n",
       "      <th>order_date</th>\n",
       "      <th>order_priority</th>\n",
       "      <th>order_quantity</th>\n",
       "      <th>sales</th>\n",
       "      <th>discount</th>\n",
       "      <th>ship_mode</th>\n",
       "      <th>profit</th>\n",
       "      <th>unit_price</th>\n",
       "      <th>...</th>\n",
       "      <th>customer_segment</th>\n",
       "      <th>product_category</th>\n",
       "      <th>product_sub-category</th>\n",
       "      <th>product_name</th>\n",
       "      <th>product_container</th>\n",
       "      <th>product_base_margin</th>\n",
       "      <th>ship_date</th>\n",
       "      <th>birthdate</th>\n",
       "      <th>Manager</th>\n",
       "      <th>Status</th>\n",
       "    </tr>\n",
       "  </thead>\n",
       "  <tbody>\n",
       "    <tr>\n",
       "      <th>0</th>\n",
       "      <td>0</td>\n",
       "      <td>3</td>\n",
       "      <td>2010-10-13</td>\n",
       "      <td>Low</td>\n",
       "      <td>06/01/1900</td>\n",
       "      <td>261.54</td>\n",
       "      <td>0.04</td>\n",
       "      <td>Regular Air</td>\n",
       "      <td>-213.25</td>\n",
       "      <td>38.94</td>\n",
       "      <td>...</td>\n",
       "      <td>Small Business</td>\n",
       "      <td>Office Supplies</td>\n",
       "      <td>Storage &amp; Organization</td>\n",
       "      <td>Eldon Base for stackable storage shelf, platinum</td>\n",
       "      <td>Large Box</td>\n",
       "      <td>0.80</td>\n",
       "      <td>2010-10-20</td>\n",
       "      <td>1970-08-04</td>\n",
       "      <td>Chris</td>\n",
       "      <td>Not Returned</td>\n",
       "    </tr>\n",
       "    <tr>\n",
       "      <th>1</th>\n",
       "      <td>1</td>\n",
       "      <td>293</td>\n",
       "      <td>2012-10-01</td>\n",
       "      <td>High</td>\n",
       "      <td>18/02/1900</td>\n",
       "      <td>10123.02</td>\n",
       "      <td>0.07</td>\n",
       "      <td>Delivery Truck</td>\n",
       "      <td>457.81</td>\n",
       "      <td>208.16</td>\n",
       "      <td>...</td>\n",
       "      <td>Consumer</td>\n",
       "      <td>Office Supplies</td>\n",
       "      <td>Appliances</td>\n",
       "      <td>1.7 Cubic Foot Compact \"Cube\" Office Refrigera...</td>\n",
       "      <td>Jumbo Drum</td>\n",
       "      <td>0.58</td>\n",
       "      <td>2012-02-10</td>\n",
       "      <td>1969-05-14</td>\n",
       "      <td>Chris</td>\n",
       "      <td>Not Returned</td>\n",
       "    </tr>\n",
       "  </tbody>\n",
       "</table>\n",
       "<p>2 rows × 24 columns</p>\n",
       "</div>"
      ],
      "text/plain": [
       "   Unnamed: 0  order_id  order_date order_priority order_quantity     sales  \\\n",
       "0           0         3  2010-10-13            Low     06/01/1900    261.54   \n",
       "1           1       293  2012-10-01           High     18/02/1900  10123.02   \n",
       "\n",
       "   discount       ship_mode  profit  unit_price  ...  customer_segment  \\\n",
       "0      0.04     Regular Air -213.25       38.94  ...    Small Business   \n",
       "1      0.07  Delivery Truck  457.81      208.16  ...          Consumer   \n",
       "\n",
       "  product_category    product_sub-category  \\\n",
       "0  Office Supplies  Storage & Organization   \n",
       "1  Office Supplies              Appliances   \n",
       "\n",
       "                                        product_name product_container  \\\n",
       "0   Eldon Base for stackable storage shelf, platinum         Large Box   \n",
       "1  1.7 Cubic Foot Compact \"Cube\" Office Refrigera...        Jumbo Drum   \n",
       "\n",
       "  product_base_margin   ship_date   birthdate Manager        Status  \n",
       "0                0.80  2010-10-20  1970-08-04   Chris  Not Returned  \n",
       "1                0.58  2012-02-10  1969-05-14   Chris  Not Returned  \n",
       "\n",
       "[2 rows x 24 columns]"
      ]
     },
     "execution_count": 138,
     "metadata": {},
     "output_type": "execute_result"
    }
   ],
   "source": [
    "cl_df.head(2)"
   ]
  },
  {
   "cell_type": "markdown",
   "metadata": {},
   "source": [
    "# Ploting With matplot"
   ]
  },
  {
   "cell_type": "code",
   "execution_count": 6,
   "metadata": {},
   "outputs": [],
   "source": [
    "# Line plot --> Trends\n",
    "# bar chart or column --> comparison\n",
    "# Histogram --> Distribution\n",
    "# pie chart ---> portion # for more 3data points\n",
    "# scatter plot  --> relationship between two numeric variables\n"
   ]
  },
  {
   "cell_type": "code",
   "execution_count": 17,
   "metadata": {},
   "outputs": [
    {
     "data": {
      "text/plain": [
       "<AxesSubplot:ylabel='Frequency'>"
      ]
     },
     "execution_count": 17,
     "metadata": {},
     "output_type": "execute_result"
    },
    {
     "data": {
      "image/png": "[encoded data removed]",
      "text/plain": [
       "<Figure size 432x288 with 1 Axes>"
      ]
     },
     "metadata": {
      "needs_background": "light"
     },
     "output_type": "display_data"
    }
   ],
   "source": [
    "cl_df['unit_price'].plot.hist(bins= [1000,2000,3000,4000,7000])"
   ]
  },
  {
   "cell_type": "code",
   "execution_count": null,
   "metadata": {},
   "outputs": [],
   "source": [
    "# cl_df['unit_price'].plot.pie()"
   ]
  },
  {
   "cell_type": "code",
   "execution_count": 42,
   "metadata": {},
   "outputs": [
    {
     "data": {
      "image/png": "[encoded data removed]",
      "text/plain": [
       "<Figure size 432x288 with 1 Axes>"
      ]
     },
     "metadata": {
      "needs_background": "light"
     },
     "output_type": "display_data"
    }
   ],
   "source": [
    "# option1 \n",
    "_= plt.hist(x= cl_df['unit_price'],bins= [1000,2000,3000,4000,7000], label= 'Price')\n",
    "_= plt.ylabel('Avg')\n",
    "_= plt.xlabel('Price')\n",
    "_= plt.title('Histogram Example')\n",
    "_= plt.legend()\n",
    "_= plt.yticks([0,10,20,25],['unloyal customers',' new_convert', 'loyal customer', 'Premium'])\n",
    "_= plt.xticks([2000,3500,6000],['Base product','standard product', 'premium product'])"
   ]
  },
  {
   "cell_type": "code",
   "execution_count": 71,
   "metadata": {},
   "outputs": [
    {
     "data": {
      "image/png": "[encoded data removed]",
      "text/plain": [
       "<Figure size 432x288 with 1 Axes>"
      ]
     },
     "metadata": {
      "needs_background": "light"
     },
     "output_type": "display_data"
    }
   ],
   "source": [
    "#option 2\n",
    "fig, ax= plt.subplots()\n",
    "_= ax.hist(x= cl_df['unit_price'],bins= [1000,2000,3000,4000,7000], label= 'Price')\n",
    "_= ax.set_ylabel('Avg')\n",
    "_= ax.set_xlabel('Price')\n",
    "_= ax.set_title('Histogram Example 2')\n"
   ]
  },
  {
   "cell_type": "code",
   "execution_count": 74,
   "metadata": {},
   "outputs": [
    {
     "data": {
      "image/png": "[encoded data removed]",
      "text/plain": [
       "<Figure size 432x288 with 1 Axes>"
      ]
     },
     "metadata": {
      "needs_background": "light"
     },
     "output_type": "display_data"
    }
   ],
   "source": [
    "# setting shirtcut for attributes\n",
    "fig, ax= plt.subplots()\n",
    "_= ax.hist(x= np.sort(cl_df['unit_price']),bins= [1000,2000,3000,4000,7000], label= 'Price')\n",
    "_= ax.set(\n",
    "    ylabel= 'Avg',\n",
    "    xlabel = 'Price',\n",
    "    yticks= [0,10,20,25],\n",
    "    yticklabels= ['unloyal customers',' new_convert', 'loyal customer', 'Premium']\n",
    ")"
   ]
  },
  {
   "cell_type": "markdown",
   "metadata": {},
   "source": [
    "## Line plots"
   ]
  },
  {
   "cell_type": "code",
   "execution_count": 95,
   "metadata": {},
   "outputs": [
    {
     "data": {
      "image/png": "[encoded data removed]",
      "text/plain": [
       "<Figure size 432x288 with 1 Axes>"
      ]
     },
     "metadata": {
      "needs_background": "light"
     },
     "output_type": "display_data"
    }
   ],
   "source": [
    "data = np.random.randn(100).cumsum()\n",
    "data2= np.sin(data)\n",
    "fig, ax = plt.subplots()\n",
    "_= ax.plot(data, linestyle ='dotted', color= 'blue', label= 'data1') #shift +tab\n",
    "_= ax.plot(data2, label='data2')\n",
    "_= ax.set(\n",
    "    ylabel= 'y',\n",
    "    xlabel = 'x',\n",
    "    title = 'Trend analysis'\n",
    ")\n",
    "_= ax.legend(loc= 'upper left')"
   ]
  },
  {
   "cell_type": "markdown",
   "metadata": {},
   "source": [
    "## Bar chart"
   ]
  },
  {
   "cell_type": "code",
   "execution_count": 112,
   "metadata": {},
   "outputs": [
    {
     "data": {
      "image/png": "[encoded data removed]",
      "text/plain": [
       "<Figure size 432x288 with 1 Axes>"
      ]
     },
     "metadata": {
      "needs_background": "light"
     },
     "output_type": "display_data"
    }
   ],
   "source": [
    "data = np.array([1,2,3,5,2,3,4,6,7])\n",
    "h= np.random.randn(9).cumsum()\n",
    "fig, ax = plt.subplots()\n",
    "\n",
    "_= ax.bar(data,h, label= 'gender')\n",
    "_= ax.plot(np.cos(data))\n",
    "_= ax.set(\n",
    "    ylabel= 'y',\n",
    "    xlabel = 'x',\n",
    "    title = 'Trend analysis'\n",
    ")\n",
    "_= ax.legend(loc= 'upper left')"
   ]
  },
  {
   "cell_type": "code",
   "execution_count": 114,
   "metadata": {},
   "outputs": [
    {
     "data": {
      "text/html": [
       "<div>\n",
       "<style scoped>\n",
       "    .dataframe tbody tr th:only-of-type {\n",
       "        vertical-align: middle;\n",
       "    }\n",
       "\n",
       "    .dataframe tbody tr th {\n",
       "        vertical-align: top;\n",
       "    }\n",
       "\n",
       "    .dataframe thead th {\n",
       "        text-align: right;\n",
       "    }\n",
       "</style>\n",
       "<table border=\"1\" class=\"dataframe\">\n",
       "  <thead>\n",
       "    <tr style=\"text-align: right;\">\n",
       "      <th></th>\n",
       "      <th>Unnamed: 0</th>\n",
       "      <th>order_id</th>\n",
       "      <th>sales</th>\n",
       "      <th>discount</th>\n",
       "      <th>profit</th>\n",
       "      <th>unit_price</th>\n",
       "      <th>shipping_cost</th>\n",
       "      <th>product_base_margin</th>\n",
       "    </tr>\n",
       "  </thead>\n",
       "  <tbody>\n",
       "    <tr>\n",
       "      <th>Unnamed: 0</th>\n",
       "      <td>1.000000</td>\n",
       "      <td>0.042530</td>\n",
       "      <td>0.007680</td>\n",
       "      <td>-0.002117</td>\n",
       "      <td>-0.000896</td>\n",
       "      <td>0.031096</td>\n",
       "      <td>-0.018655</td>\n",
       "      <td>-0.010574</td>\n",
       "    </tr>\n",
       "    <tr>\n",
       "      <th>order_id</th>\n",
       "      <td>0.042530</td>\n",
       "      <td>1.000000</td>\n",
       "      <td>-0.007681</td>\n",
       "      <td>-0.003609</td>\n",
       "      <td>-0.007014</td>\n",
       "      <td>-0.004433</td>\n",
       "      <td>-0.004246</td>\n",
       "      <td>-0.017844</td>\n",
       "    </tr>\n",
       "    <tr>\n",
       "      <th>sales</th>\n",
       "      <td>0.007680</td>\n",
       "      <td>-0.007681</td>\n",
       "      <td>1.000000</td>\n",
       "      <td>-0.019552</td>\n",
       "      <td>0.581884</td>\n",
       "      <td>0.602439</td>\n",
       "      <td>0.434495</td>\n",
       "      <td>0.129632</td>\n",
       "    </tr>\n",
       "    <tr>\n",
       "      <th>discount</th>\n",
       "      <td>-0.002117</td>\n",
       "      <td>-0.003609</td>\n",
       "      <td>-0.019552</td>\n",
       "      <td>1.000000</td>\n",
       "      <td>-0.037156</td>\n",
       "      <td>0.001371</td>\n",
       "      <td>-0.001535</td>\n",
       "      <td>-0.002694</td>\n",
       "    </tr>\n",
       "    <tr>\n",
       "      <th>profit</th>\n",
       "      <td>-0.000896</td>\n",
       "      <td>-0.007014</td>\n",
       "      <td>0.581884</td>\n",
       "      <td>-0.037156</td>\n",
       "      <td>1.000000</td>\n",
       "      <td>-0.009112</td>\n",
       "      <td>-0.021393</td>\n",
       "      <td>-0.114720</td>\n",
       "    </tr>\n",
       "    <tr>\n",
       "      <th>unit_price</th>\n",
       "      <td>0.031096</td>\n",
       "      <td>-0.004433</td>\n",
       "      <td>0.602439</td>\n",
       "      <td>0.001371</td>\n",
       "      <td>-0.009112</td>\n",
       "      <td>1.000000</td>\n",
       "      <td>0.239788</td>\n",
       "      <td>0.047479</td>\n",
       "    </tr>\n",
       "    <tr>\n",
       "      <th>shipping_cost</th>\n",
       "      <td>-0.018655</td>\n",
       "      <td>-0.004246</td>\n",
       "      <td>0.434495</td>\n",
       "      <td>-0.001535</td>\n",
       "      <td>-0.021393</td>\n",
       "      <td>0.239788</td>\n",
       "      <td>1.000000</td>\n",
       "      <td>0.328304</td>\n",
       "    </tr>\n",
       "    <tr>\n",
       "      <th>product_base_margin</th>\n",
       "      <td>-0.010574</td>\n",
       "      <td>-0.017844</td>\n",
       "      <td>0.129632</td>\n",
       "      <td>-0.002694</td>\n",
       "      <td>-0.114720</td>\n",
       "      <td>0.047479</td>\n",
       "      <td>0.328304</td>\n",
       "      <td>1.000000</td>\n",
       "    </tr>\n",
       "  </tbody>\n",
       "</table>\n",
       "</div>"
      ],
      "text/plain": [
       "                     Unnamed: 0  order_id     sales  discount    profit  \\\n",
       "Unnamed: 0             1.000000  0.042530  0.007680 -0.002117 -0.000896   \n",
       "order_id               0.042530  1.000000 -0.007681 -0.003609 -0.007014   \n",
       "sales                  0.007680 -0.007681  1.000000 -0.019552  0.581884   \n",
       "discount              -0.002117 -0.003609 -0.019552  1.000000 -0.037156   \n",
       "profit                -0.000896 -0.007014  0.581884 -0.037156  1.000000   \n",
       "unit_price             0.031096 -0.004433  0.602439  0.001371 -0.009112   \n",
       "shipping_cost         -0.018655 -0.004246  0.434495 -0.001535 -0.021393   \n",
       "product_base_margin   -0.010574 -0.017844  0.129632 -0.002694 -0.114720   \n",
       "\n",
       "                     unit_price  shipping_cost  product_base_margin  \n",
       "Unnamed: 0             0.031096      -0.018655            -0.010574  \n",
       "order_id              -0.004433      -0.004246            -0.017844  \n",
       "sales                  0.602439       0.434495             0.129632  \n",
       "discount               0.001371      -0.001535            -0.002694  \n",
       "profit                -0.009112      -0.021393            -0.114720  \n",
       "unit_price             1.000000       0.239788             0.047479  \n",
       "shipping_cost          0.239788       1.000000             0.328304  \n",
       "product_base_margin    0.047479       0.328304             1.000000  "
      ]
     },
     "execution_count": 114,
     "metadata": {},
     "output_type": "execute_result"
    }
   ],
   "source": [
    "cl_df.corr()"
   ]
  },
  {
   "cell_type": "code",
   "execution_count": 139,
   "metadata": {},
   "outputs": [
    {
     "data": {
      "text/plain": [
       "array([0, 1, 2])"
      ]
     },
     "execution_count": 139,
     "metadata": {},
     "output_type": "execute_result"
    }
   ],
   "source": [
    "def convert_cat(x):\n",
    "    if x == 'Office Supplies':\n",
    "        return 0\n",
    "    elif x == 'Technology':\n",
    "        return 1\n",
    "    else:\n",
    "        return 2\n",
    "    \n",
    "    \n",
    "# cl_df['product_category']= cl_df['product_category'].astype(str)   \n",
    "#  ['Office Supplies', 'Technology', 'Furniture'   \n",
    "cl_df['product_category']= cl_df['product_category'].apply(convert_cat)\n",
    "cl_df['product_category'].unique()"
   ]
  },
  {
   "cell_type": "code",
   "execution_count": 159,
   "metadata": {},
   "outputs": [
    {
     "data": {
      "text/plain": [
       "<matplotlib.collections.PathCollection at 0x7f95c09f6f40>"
      ]
     },
     "execution_count": 159,
     "metadata": {},
     "output_type": "execute_result"
    },
    {
     "data": {
      "image/png": "[encoded data removed]",
      "text/plain": [
       "<Figure size 432x288 with 1 Axes>"
      ]
     },
     "metadata": {
      "needs_background": "light"
     },
     "output_type": "display_data"
    }
   ],
   "source": [
    "from matplotlib.colors import ListedColormap\n",
    "\n",
    "# sales= cl_df[cl_df['sales']<4000]\n",
    "# profit= cl_df['profit']\n",
    "# unit_price= cl_df['unit_price']\n",
    "sales= cl_df[cl_df['sales']<5000]['sales'] \n",
    "profit= cl_df[cl_df['sales']<5000]['profit']\n",
    "unit_price = cl_df[cl_df['sales']<5000]['unit_price']\n",
    "cmap = ListedColormap(['green','blue','red'])\n",
    "\n",
    "fig, ax = plt.subplots()\n",
    "ax.scatter(x= sales,y=unit_price,c=cl_df[cl_df['sales']<5000]['product_category'], cmap=cmap)"
   ]
  },
  {
   "cell_type": "code",
   "execution_count": 122,
   "metadata": {},
   "outputs": [
    {
     "data": {
      "text/html": [
       "<div>\n",
       "<style scoped>\n",
       "    .dataframe tbody tr th:only-of-type {\n",
       "        vertical-align: middle;\n",
       "    }\n",
       "\n",
       "    .dataframe tbody tr th {\n",
       "        vertical-align: top;\n",
       "    }\n",
       "\n",
       "    .dataframe thead th {\n",
       "        text-align: right;\n",
       "    }\n",
       "</style>\n",
       "<table border=\"1\" class=\"dataframe\">\n",
       "  <thead>\n",
       "    <tr style=\"text-align: right;\">\n",
       "      <th></th>\n",
       "      <th>Unnamed: 0</th>\n",
       "      <th>order_id</th>\n",
       "      <th>order_date</th>\n",
       "      <th>order_priority</th>\n",
       "      <th>order_quantity</th>\n",
       "      <th>sales</th>\n",
       "      <th>discount</th>\n",
       "      <th>ship_mode</th>\n",
       "      <th>profit</th>\n",
       "      <th>unit_price</th>\n",
       "      <th>...</th>\n",
       "      <th>customer_segment</th>\n",
       "      <th>product_category</th>\n",
       "      <th>product_sub-category</th>\n",
       "      <th>product_name</th>\n",
       "      <th>product_container</th>\n",
       "      <th>product_base_margin</th>\n",
       "      <th>ship_date</th>\n",
       "      <th>birthdate</th>\n",
       "      <th>Manager</th>\n",
       "      <th>Status</th>\n",
       "    </tr>\n",
       "  </thead>\n",
       "  <tbody>\n",
       "    <tr>\n",
       "      <th>4659</th>\n",
       "      <td>4659</td>\n",
       "      <td>29766</td>\n",
       "      <td>2009-03-21</td>\n",
       "      <td>Medium</td>\n",
       "      <td>13/01/1900</td>\n",
       "      <td>89061.05</td>\n",
       "      <td>0.0</td>\n",
       "      <td>Regular Air</td>\n",
       "      <td>27220.69</td>\n",
       "      <td>6783.02</td>\n",
       "      <td>...</td>\n",
       "      <td>Consumer</td>\n",
       "      <td>Technology</td>\n",
       "      <td>Office Machines</td>\n",
       "      <td>Polycom ViewStation ISDN Videoconferencing Unit</td>\n",
       "      <td>Large Box</td>\n",
       "      <td>0.39</td>\n",
       "      <td>2009-03-22</td>\n",
       "      <td>1973-08-07</td>\n",
       "      <td>Sam</td>\n",
       "      <td>Not Returned</td>\n",
       "    </tr>\n",
       "  </tbody>\n",
       "</table>\n",
       "<p>1 rows × 24 columns</p>\n",
       "</div>"
      ],
      "text/plain": [
       "      Unnamed: 0  order_id  order_date order_priority order_quantity  \\\n",
       "4659        4659     29766  2009-03-21         Medium     13/01/1900   \n",
       "\n",
       "         sales  discount    ship_mode    profit  unit_price  ...  \\\n",
       "4659  89061.05       0.0  Regular Air  27220.69     6783.02  ...   \n",
       "\n",
       "      customer_segment product_category product_sub-category  \\\n",
       "4659          Consumer       Technology      Office Machines   \n",
       "\n",
       "                                          product_name product_container  \\\n",
       "4659  Polycom ViewStation ISDN Videoconferencing Unit         Large Box   \n",
       "\n",
       "     product_base_margin   ship_date   birthdate Manager        Status  \n",
       "4659                0.39  2009-03-22  1973-08-07     Sam  Not Returned  \n",
       "\n",
       "[1 rows x 24 columns]"
      ]
     },
     "execution_count": 122,
     "metadata": {},
     "output_type": "execute_result"
    }
   ],
   "source": [
    "cl_df[cl_df['sales']> 60000]"
   ]
  },
  {
   "cell_type": "code",
   "execution_count": 127,
   "metadata": {},
   "outputs": [],
   "source": [
    "price= [x for x in cl_df['profit'].unique() if x >15000]"
   ]
  },
  {
   "cell_type": "code",
   "execution_count": 134,
   "metadata": {},
   "outputs": [
    {
     "data": {
      "text/plain": [
       "8369"
      ]
     },
     "execution_count": 134,
     "metadata": {},
     "output_type": "execute_result"
    }
   ],
   "source": [
    "cl_df['product_category'].count()"
   ]
  },
  {
   "cell_type": "code",
   "execution_count": 156,
   "metadata": {},
   "outputs": [
    {
     "data": {
      "text/plain": [
       "0        261.5400\n",
       "2        244.5700\n",
       "4        394.2700\n",
       "5        146.6900\n",
       "6         93.5400\n",
       "          ...    \n",
       "8364    1294.0400\n",
       "8365     392.5700\n",
       "8366     823.7800\n",
       "8367     469.8375\n",
       "8368    2026.0100\n",
       "Name: sales, Length: 7315, dtype: float64"
      ]
     },
     "execution_count": 156,
     "metadata": {},
     "output_type": "execute_result"
    }
   ],
   "source": [
    "cl_df[cl_df['sales']<4000]['sales'] \n",
    "cl_df[cl_df['sales']<4000]['profit']\n",
    "cl_df[cl_df['sales']<4000]['unit_price']    "
   ]
  },
  {
   "cell_type": "markdown",
   "metadata": {},
   "source": [
    "## paths\n"
   ]
  },
  {
   "cell_type": "code",
   "execution_count": 161,
   "metadata": {},
   "outputs": [],
   "source": [
    "import os"
   ]
  },
  {
   "cell_type": "code",
   "execution_count": 166,
   "metadata": {},
   "outputs": [
    {
     "name": "stdout",
     "output_type": "stream",
     "text": [
      "/Users/de_tai/Desktop/new_class/Python_data/day14\n",
      "['path_example', 'cleaned_data.csv', 'day14.ipynb', '.ipynb_checkpoints']\n"
     ]
    }
   ],
   "source": [
    "#current directory --> folder base\n",
    "curr = os.getcwd()\n",
    "print(curr)\n",
    "all_dir= os.listdir(curr)\n",
    "print(all_dir)"
   ]
  },
  {
   "cell_type": "code",
   "execution_count": 171,
   "metadata": {},
   "outputs": [],
   "source": [
    "files= []\n",
    "for dirpath, dirnames, filename in  os.walk(curr):\n",
    "    if filename:\n",
    "        files.append(filename)\n",
    "#     print('dirpath: ', dirpath)\n",
    "#     print('dirname: ', dirnames)    \n",
    "#     print('filename: ', filename)    \n",
    "        "
   ]
  },
  {
   "cell_type": "code",
   "execution_count": 172,
   "metadata": {},
   "outputs": [
    {
     "data": {
      "text/plain": [
       "[['cleaned_data.csv', 'day14.ipynb'],\n",
       " ['untitled.txt'],\n",
       " ['untitled-checkpoint.txt'],\n",
       " ['untitled.txt'],\n",
       " ['untitled-checkpoint.txt'],\n",
       " ['day14-checkpoint.ipynb']]"
      ]
     },
     "execution_count": 172,
     "metadata": {},
     "output_type": "execute_result"
    }
   ],
   "source": [
    "files"
   ]
  },
  {
   "cell_type": "code",
   "execution_count": 178,
   "metadata": {},
   "outputs": [],
   "source": [
    "os.makedirs('path_example/another/another2/filedir_example2',exist_ok=True)"
   ]
  },
  {
   "cell_type": "code",
   "execution_count": 179,
   "metadata": {},
   "outputs": [
    {
     "data": {
      "text/plain": [
       "'/Users/de_tai/Desktop/new_class/Python_data/day14/day14.ipynb'"
      ]
     },
     "execution_count": 179,
     "metadata": {},
     "output_type": "execute_result"
    }
   ],
   "source": [
    "\n",
    "# /Users/de_tai/Desktop/new_class/Python_data/day14/day14.ipynb\n",
    "filename= 'day14.ipynb'\n",
    "\n",
    "os.path.join(curr,filename)\n"
   ]
  },
  {
   "cell_type": "code",
   "execution_count": null,
   "metadata": {},
   "outputs": [],
   "source": [
    "# absolute and relative path"
   ]
  }
 ],
 "metadata": {
  "kernelspec": {
   "display_name": "Python 3",
   "language": "python",
   "name": "python3"
  },
  "language_info": {
   "codemirror_mode": {
    "name": "ipython",
    "version": 3
   },
   "file_extension": ".py",
   "mimetype": "text/x-python",
   "name": "python",
   "nbconvert_exporter": "python",
   "pygments_lexer": "ipython3",
   "version": "3.8.5"
  }
 },
 "nbformat": 4,
 "nbformat_minor": 4
}

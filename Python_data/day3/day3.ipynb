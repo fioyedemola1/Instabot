{
 "metadata": {
  "language_info": {
   "codemirror_mode": {
    "name": "ipython",
    "version": 3
   },
   "file_extension": ".py",
   "mimetype": "text/x-python",
   "name": "python",
   "nbconvert_exporter": "python",
   "pygments_lexer": "ipython3",
   "version": "3.8.5"
  },
  "orig_nbformat": 2,
  "kernelspec": {
   "name": "python385jvsc74a57bd057afa3c55199372cc74ce95ef8abe2f2d30a7accba4b0a9ba7456fa3ad07924a",
   "display_name": "Python 3.8.5 64-bit ('base': conda)"
  }
 },
 "nbformat": 4,
 "nbformat_minor": 2,
 "cells": [
  {
   "cell_type": "code",
   "execution_count": null,
   "metadata": {},
   "outputs": [],
   "source": [
    "# variables\n",
    "# data types\n",
    "# Type hints -----not necussary python 4.0"
   ]
  },
  {
   "cell_type": "code",
   "execution_count": 1,
   "metadata": {},
   "outputs": [],
   "source": [
    "# int varaiable_name = str\n",
    "variable = 10\n",
    "variable = 'string'\n",
    "print(type(variable))"
   ]
  },
  {
   "cell_type": "code",
   "execution_count": 218,
   "metadata": {},
   "outputs": [],
   "source": [
    "from typing import Optional, Any, List,Tuple,Dict\n",
    "\n",
    "variable_int: int = 10\n",
    "variable_float: float = 10.0\n",
    "variable_string: str = 'string'\n",
    "variable_list: List[int] = [1,2,3,4,5] \n",
    "variable_tuple: Tuple[int] = (1,2,3,4,5) \n",
    "variable_dict: Dict[str, str] = (1,2,3,4,5) \n",
    "variable_None: Optional[Any] \n"
   ]
  },
  {
   "cell_type": "code",
   "execution_count": 10,
   "metadata": {},
   "outputs": [],
   "source": [
    "# Methods.  Str, List, Dict and  tuple set\n",
    "variable_None"
   ]
  },
  {
   "cell_type": "code",
   "execution_count": 24,
   "metadata": {},
   "outputs": [
    {
     "output_type": "stream",
     "name": "stdout",
     "text": [
      "i am a boy\twelcome to python\ni am a boy welcome to python\nwelcome to js i am a boy\nwelcome to python\n"
     ]
    }
   ],
   "source": [
    "# '' \"\"\n",
    "print('i am a boy', end='\\t')\n",
    "print('welcome to python')\n",
    "\n",
    "print('i am a boy', end=' ')\n",
    "print('welcome to python')\n",
    "print('welcome to js', end=' ')\n",
    "\n",
    "print('i am a boy', end='\\n')\n",
    "print('welcome to python')"
   ]
  },
  {
   "cell_type": "code",
   "execution_count": 26,
   "metadata": {},
   "outputs": [],
   "source": [
    "class Employee:\n",
    "    # contructor \n",
    "    def __init__(self,first_name,last_name,age,gender,position ):\n",
    "        self.first_name=first_name\n",
    "        self.last_name=last_name\n",
    "        self.age=age\n",
    "        self.gender=gender\n",
    "        self.position=position\n",
    "    \n",
    "    def email(self):\n",
    "        return f'{self.first_name}.{self.last_name}@company.com'\n",
    "\n",
    "\n",
    "\n",
    " def email(last, first_name):\n",
    "        return f'{first_name}.{last}@company.com'   "
   ]
  },
  {
   "cell_type": "code",
   "execution_count": 27,
   "metadata": {},
   "outputs": [],
   "source": [
    "employee = Employee('ade', 'ade', 10,'m', 'Md')"
   ]
  },
  {
   "cell_type": "code",
   "execution_count": 29,
   "metadata": {},
   "outputs": [
    {
     "output_type": "execute_result",
     "data": {
      "text/plain": [
       "'ade.ade@company.com'"
      ]
     },
     "metadata": {},
     "execution_count": 29
    }
   ],
   "source": [
    "employee.email()"
   ]
  },
  {
   "cell_type": "code",
   "execution_count": 31,
   "metadata": {},
   "outputs": [],
   "source": [
    "my_variable = 20\n",
    "# my_variable.email()"
   ]
  },
  {
   "cell_type": "code",
   "execution_count": 32,
   "metadata": {},
   "outputs": [
    {
     "output_type": "stream",
     "name": "stdout",
     "text": [
      "['__class__', '__delattr__', '__dict__', '__dir__', '__doc__', '__eq__', '__format__', '__ge__', '__getattribute__', '__gt__', '__hash__', '__init__', '__init_subclass__', '__le__', '__lt__', '__module__', '__ne__', '__new__', '__reduce__', '__reduce_ex__', '__repr__', '__setattr__', '__sizeof__', '__str__', '__subclasshook__', '__weakref__', 'email']\n**********\n['__abs__', '__add__', '__and__', '__bool__', '__ceil__', '__class__', '__delattr__', '__dir__', '__divmod__', '__doc__', '__eq__', '__float__', '__floor__', '__floordiv__', '__format__', '__ge__', '__getattribute__', '__getnewargs__', '__gt__', '__hash__', '__index__', '__init__', '__init_subclass__', '__int__', '__invert__', '__le__', '__lshift__', '__lt__', '__mod__', '__mul__', '__ne__', '__neg__', '__new__', '__or__', '__pos__', '__pow__', '__radd__', '__rand__', '__rdivmod__', '__reduce__', '__reduce_ex__', '__repr__', '__rfloordiv__', '__rlshift__', '__rmod__', '__rmul__', '__ror__', '__round__', '__rpow__', '__rrshift__', '__rshift__', '__rsub__', '__rtruediv__', '__rxor__', '__setattr__', '__sizeof__', '__str__', '__sub__', '__subclasshook__', '__truediv__', '__trunc__', '__xor__', 'as_integer_ratio', 'bit_length', 'conjugate', 'denominator', 'from_bytes', 'imag', 'numerator', 'real', 'to_bytes']\n"
     ]
    }
   ],
   "source": [
    "print(dir(Employee))\n",
    "print('*'* 10)\n",
    "print(dir(my_variable))"
   ]
  },
  {
   "cell_type": "code",
   "execution_count": 35,
   "metadata": {},
   "outputs": [],
   "source": [
    "def email(last, first_name):\n",
    "        return f'{first_name}.{last}@company.com'"
   ]
  },
  {
   "cell_type": "code",
   "execution_count": 38,
   "metadata": {},
   "outputs": [
    {
     "output_type": "stream",
     "name": "stdout",
     "text": [
      "samsn.ade@company.com\nade.ade@company.com\n"
     ]
    }
   ],
   "source": [
    "print(email('ade','samsn'))\n",
    "print(employee.email())"
   ]
  },
  {
   "cell_type": "code",
   "execution_count": null,
   "metadata": {},
   "outputs": [],
   "source": [
    "print()\n",
    "dir()\n",
    "help()"
   ]
  },
  {
   "cell_type": "code",
   "execution_count": 39,
   "metadata": {},
   "outputs": [
    {
     "output_type": "stream",
     "name": "stdout",
     "text": [
      "['__add__', '__class__', '__contains__', '__delattr__', '__dir__', '__doc__', '__eq__', '__format__', '__ge__', '__getattribute__', '__getitem__', '__getnewargs__', '__gt__', '__hash__', '__init__', '__init_subclass__', '__iter__', '__le__', '__len__', '__lt__', '__mod__', '__mul__', '__ne__', '__new__', '__reduce__', '__reduce_ex__', '__repr__', '__rmod__', '__rmul__', '__setattr__', '__sizeof__', '__str__', '__subclasshook__', 'capitalize', 'casefold', 'center', 'count', 'encode', 'endswith', 'expandtabs', 'find', 'format', 'format_map', 'index', 'isalnum', 'isalpha', 'isascii', 'isdecimal', 'isdigit', 'isidentifier', 'islower', 'isnumeric', 'isprintable', 'isspace', 'istitle', 'isupper', 'join', 'ljust', 'lower', 'lstrip', 'maketrans', 'partition', 'replace', 'rfind', 'rindex', 'rjust', 'rpartition', 'rsplit', 'rstrip', 'split', 'splitlines', 'startswith', 'strip', 'swapcase', 'title', 'translate', 'upper', 'zfill']\n"
     ]
    }
   ],
   "source": [
    "# strings\n",
    "print(dir(str))"
   ]
  },
  {
   "cell_type": "code",
   "execution_count": 55,
   "metadata": {},
   "outputs": [],
   "source": [
    "string = 'this is my first example of a string 2323'"
   ]
  },
  {
   "cell_type": "code",
   "execution_count": 49,
   "metadata": {},
   "outputs": [
    {
     "output_type": "execute_result",
     "data": {
      "text/plain": [
       "'This is my first example of a string'"
      ]
     },
     "metadata": {},
     "execution_count": 49
    }
   ],
   "source": [
    "capitalised =string.capitalize()\n",
    "capitalised"
   ]
  },
  {
   "cell_type": "code",
   "execution_count": 51,
   "metadata": {},
   "outputs": [
    {
     "output_type": "execute_result",
     "data": {
      "text/plain": [
       "'THIS IS MY FIRST EXAMPLE OF A STRING'"
      ]
     },
     "metadata": {},
     "execution_count": 51
    }
   ],
   "source": [
    "all_upper =string.upper()\n",
    "all_upper"
   ]
  },
  {
   "cell_type": "code",
   "execution_count": 53,
   "metadata": {},
   "outputs": [
    {
     "output_type": "execute_result",
     "data": {
      "text/plain": [
       "'this is my first example of a string'"
      ]
     },
     "metadata": {},
     "execution_count": 53
    }
   ],
   "source": [
    "all_lower= all_upper.lower()\n",
    "all_lower"
   ]
  },
  {
   "cell_type": "code",
   "execution_count": 62,
   "metadata": {},
   "outputs": [
    {
     "output_type": "execute_result",
     "data": {
      "text/plain": [
       "True"
      ]
     },
     "metadata": {},
     "execution_count": 62
    }
   ],
   "source": [
    "new_string = '12334'\n",
    "new_string.isdecimal()"
   ]
  },
  {
   "cell_type": "code",
   "execution_count": 65,
   "metadata": {},
   "outputs": [
    {
     "output_type": "execute_result",
     "data": {
      "text/plain": [
       "1"
      ]
     },
     "metadata": {},
     "execution_count": 65
    }
   ],
   "source": [
    "# count\n",
    "# help(str.count)\n",
    "new_string.count('2')"
   ]
  },
  {
   "cell_type": "code",
   "execution_count": 84,
   "metadata": {},
   "outputs": [],
   "source": [
    "# join and split'\n",
    "un_split = 'the quick brown fox jumps over the lazy dog'\n",
    "splitted = un_split.split()"
   ]
  },
  {
   "cell_type": "code",
   "execution_count": 86,
   "metadata": {},
   "outputs": [],
   "source": [
    "new_list = []\n",
    "for indx, i in enumerate(splitted):\n",
    "    if i == 'brown':\n",
    "        new_list.append('green')\n",
    "    else:\n",
    "        new_list.append(i)"
   ]
  },
  {
   "cell_type": "code",
   "execution_count": 89,
   "metadata": {},
   "outputs": [
    {
     "output_type": "execute_result",
     "data": {
      "text/plain": [
       "'the quick green fox jumps over the lazy dog'"
      ]
     },
     "metadata": {},
     "execution_count": 89
    }
   ],
   "source": [
    "un_split.replace('brown', 'green')"
   ]
  },
  {
   "cell_type": "code",
   "execution_count": 88,
   "metadata": {},
   "outputs": [
    {
     "output_type": "execute_result",
     "data": {
      "text/plain": [
       "['the', 'quick', 'green', 'fox', 'jumps', 'over', 'the', 'lazy', 'dog']"
      ]
     },
     "metadata": {},
     "execution_count": 88
    }
   ],
   "source": [
    "new_list"
   ]
  },
  {
   "cell_type": "code",
   "execution_count": 94,
   "metadata": {},
   "outputs": [],
   "source": [
    "slash= '/'.join(new_list)"
   ]
  },
  {
   "cell_type": "code",
   "execution_count": 95,
   "metadata": {},
   "outputs": [
    {
     "output_type": "execute_result",
     "data": {
      "text/plain": [
       "['the', 'quick', 'green', 'fox', 'jumps', 'over', 'the', 'lazy', 'dog']"
      ]
     },
     "metadata": {},
     "execution_count": 95
    }
   ],
   "source": [
    "slash.split('/')"
   ]
  },
  {
   "cell_type": "code",
   "execution_count": 96,
   "metadata": {},
   "outputs": [
    {
     "output_type": "stream",
     "name": "stdout",
     "text": [
      "['__add__', '__class__', '__contains__', '__delattr__', '__delitem__', '__dir__', '__doc__', '__eq__', '__format__', '__ge__', '__getattribute__', '__getitem__', '__gt__', '__hash__', '__iadd__', '__imul__', '__init__', '__init_subclass__', '__iter__', '__le__', '__len__', '__lt__', '__mul__', '__ne__', '__new__', '__reduce__', '__reduce_ex__', '__repr__', '__reversed__', '__rmul__', '__setattr__', '__setitem__', '__sizeof__', '__str__', '__subclasshook__', 'append', 'clear', 'copy', 'count', 'extend', 'index', 'insert', 'pop', 'remove', 'reverse', 'sort']\n"
     ]
    }
   ],
   "source": [
    "# list\n",
    "print(dir(list))"
   ]
  },
  {
   "cell_type": "code",
   "execution_count": 118,
   "metadata": {},
   "outputs": [],
   "source": [
    "my_list = [41,22,13,4,5]"
   ]
  },
  {
   "cell_type": "code",
   "execution_count": 115,
   "metadata": {},
   "outputs": [],
   "source": [
    "# my_list.pop()\n",
    "# my_list.remove(5)"
   ]
  },
  {
   "cell_type": "code",
   "execution_count": 119,
   "metadata": {},
   "outputs": [],
   "source": [
    "my_list.sort()\n",
    "my_list.reverse()\n"
   ]
  },
  {
   "cell_type": "code",
   "execution_count": 129,
   "metadata": {},
   "outputs": [
    {
     "output_type": "execute_result",
     "data": {
      "text/plain": [
       "['the', 'quick', 'green', 'fox', 'jumps', 'over', 'the', 'lazy', 'dog']"
      ]
     },
     "metadata": {},
     "execution_count": 129
    }
   ],
   "source": [
    "sorting= slash.split('/')\n",
    "sorting\n"
   ]
  },
  {
   "cell_type": "code",
   "execution_count": 127,
   "metadata": {},
   "outputs": [],
   "source": [
    "sorting.sort()"
   ]
  },
  {
   "cell_type": "code",
   "execution_count": 128,
   "metadata": {},
   "outputs": [
    {
     "output_type": "execute_result",
     "data": {
      "text/plain": [
       "['dog', 'fox', 'green', 'jumps', 'lazy', 'over', 'quick', 'the', 'the']"
      ]
     },
     "metadata": {},
     "execution_count": 128
    }
   ],
   "source": [
    "sorting"
   ]
  },
  {
   "cell_type": "code",
   "execution_count": 130,
   "metadata": {},
   "outputs": [],
   "source": [
    "# dict\n",
    "my_dict = {'name':' Ade', 'ocuppation': 'student', 'loc': 'somewhere'}"
   ]
  },
  {
   "cell_type": "code",
   "execution_count": 132,
   "metadata": {},
   "outputs": [
    {
     "output_type": "stream",
     "name": "stdout",
     "text": [
      "['__class__', '__contains__', '__delattr__', '__delitem__', '__dir__', '__doc__', '__eq__', '__format__', '__ge__', '__getattribute__', '__getitem__', '__gt__', '__hash__', '__init__', '__init_subclass__', '__iter__', '__le__', '__len__', '__lt__', '__ne__', '__new__', '__reduce__', '__reduce_ex__', '__repr__', '__reversed__', '__setattr__', '__setitem__', '__sizeof__', '__str__', '__subclasshook__', 'clear', 'copy', 'fromkeys', 'get', 'items', 'keys', 'pop', 'popitem', 'setdefault', 'update', 'values']\n"
     ]
    }
   ],
   "source": [
    "print(dir(my_dict))"
   ]
  },
  {
   "cell_type": "code",
   "execution_count": 133,
   "metadata": {},
   "outputs": [
    {
     "output_type": "execute_result",
     "data": {
      "text/plain": [
       "dict_keys(['name', 'ocuppation', 'loc'])"
      ]
     },
     "metadata": {},
     "execution_count": 133
    }
   ],
   "source": [
    "my_dict.keys()"
   ]
  },
  {
   "cell_type": "code",
   "execution_count": 134,
   "metadata": {},
   "outputs": [
    {
     "output_type": "execute_result",
     "data": {
      "text/plain": [
       "dict_values([' Ade', 'student', 'somewhere'])"
      ]
     },
     "metadata": {},
     "execution_count": 134
    }
   ],
   "source": [
    "my_dict.values()"
   ]
  },
  {
   "cell_type": "code",
   "execution_count": 137,
   "metadata": {},
   "outputs": [],
   "source": [
    "items  =my_dict.items()"
   ]
  },
  {
   "cell_type": "code",
   "execution_count": 139,
   "metadata": {},
   "outputs": [],
   "source": [
    "my_dict.update({'item': 'new_iten'})"
   ]
  },
  {
   "cell_type": "code",
   "execution_count": 141,
   "metadata": {},
   "outputs": [],
   "source": [
    "my_dict.clear()"
   ]
  },
  {
   "cell_type": "code",
   "execution_count": 142,
   "metadata": {},
   "outputs": [
    {
     "output_type": "execute_result",
     "data": {
      "text/plain": [
       "{}"
      ]
     },
     "metadata": {},
     "execution_count": 142
    }
   ],
   "source": [
    "my_dict"
   ]
  },
  {
   "cell_type": "code",
   "execution_count": 143,
   "metadata": {},
   "outputs": [],
   "source": [
    "# tuple\n",
    "my_tup = 12,2,3,4"
   ]
  },
  {
   "cell_type": "code",
   "execution_count": 144,
   "metadata": {},
   "outputs": [
    {
     "output_type": "stream",
     "name": "stdout",
     "text": [
      "['__add__', '__class__', '__contains__', '__delattr__', '__dir__', '__doc__', '__eq__', '__format__', '__ge__', '__getattribute__', '__getitem__', '__getnewargs__', '__gt__', '__hash__', '__init__', '__init_subclass__', '__iter__', '__le__', '__len__', '__lt__', '__mul__', '__ne__', '__new__', '__reduce__', '__reduce_ex__', '__repr__', '__rmul__', '__setattr__', '__sizeof__', '__str__', '__subclasshook__', 'count', 'index']\n"
     ]
    }
   ],
   "source": [
    "print(dir(my_tup))"
   ]
  },
  {
   "cell_type": "code",
   "execution_count": 151,
   "metadata": {},
   "outputs": [],
   "source": [
    "another = my_tup.__len__()"
   ]
  },
  {
   "cell_type": "code",
   "execution_count": 152,
   "metadata": {},
   "outputs": [
    {
     "output_type": "execute_result",
     "data": {
      "text/plain": [
       "4"
      ]
     },
     "metadata": {},
     "execution_count": 152
    }
   ],
   "source": [
    "another"
   ]
  },
  {
   "cell_type": "code",
   "execution_count": 166,
   "metadata": {},
   "outputs": [],
   "source": [
    "# Unpacking and *\n",
    "\n",
    "my_item = [1,2,3,4,5,6,2,3,4]\n",
    "*a,b,c,d,e,f = my_item\n"
   ]
  },
  {
   "cell_type": "code",
   "execution_count": 167,
   "metadata": {},
   "outputs": [
    {
     "output_type": "stream",
     "name": "stdout",
     "text": [
      "[1, 2, 3, 4]\n5\n6\n2\n3\n4\n"
     ]
    }
   ],
   "source": [
    "print(a)\n",
    "print(b)\n",
    "print(c)\n",
    "print(d)\n",
    "print(e)\n",
    "print(f) \n"
   ]
  },
  {
   "cell_type": "code",
   "execution_count": 172,
   "metadata": {},
   "outputs": [],
   "source": [
    "list1 = [1,2,3,4]\n",
    "list2 = [5,6,7,8,9]\n",
    "list3 = [*list1, *list2]"
   ]
  },
  {
   "cell_type": "code",
   "execution_count": 173,
   "metadata": {},
   "outputs": [
    {
     "output_type": "execute_result",
     "data": {
      "text/plain": [
       "[1, 2, 3, 4, 5, 6, 7, 8, 9]"
      ]
     },
     "metadata": {},
     "execution_count": 173
    }
   ],
   "source": [
    "list3"
   ]
  },
  {
   "cell_type": "code",
   "execution_count": 176,
   "metadata": {},
   "outputs": [],
   "source": [
    "firts_name = ['sam']\n",
    "last_name = ['smnith']\n",
    "fullname = [*firts_name, *last_name]"
   ]
  },
  {
   "cell_type": "code",
   "execution_count": 175,
   "metadata": {},
   "outputs": [
    {
     "output_type": "execute_result",
     "data": {
      "text/plain": [
       "['s', 'a', 'm', 's', 'm', 'n', 'i', 't', 'h']"
      ]
     },
     "metadata": {},
     "execution_count": 175
    }
   ],
   "source": [
    "my"
   ]
  },
  {
   "cell_type": "code",
   "execution_count": 178,
   "metadata": {},
   "outputs": [],
   "source": [
    "my_dict = {'name':' Ade', 'ocuppation': 'student', 'loc': 'somewhere'}"
   ]
  },
  {
   "cell_type": "code",
   "execution_count": 179,
   "metadata": {},
   "outputs": [],
   "source": [
    "new = [*my_dict]"
   ]
  },
  {
   "cell_type": "code",
   "execution_count": 182,
   "metadata": {},
   "outputs": [
    {
     "output_type": "stream",
     "name": "stdout",
     "text": [
      " Ade\nstudent\nsomewhere\n"
     ]
    }
   ],
   "source": [
    "for i in new:\n",
    "    print(my_dict.get(i))"
   ]
  },
  {
   "cell_type": "code",
   "execution_count": 187,
   "metadata": {},
   "outputs": [
    {
     "output_type": "stream",
     "name": "stdout",
     "text": [
      "ade\n"
     ]
    }
   ],
   "source": [
    "tutor = 'ade'\n",
    "print(tutor)\n",
    "name= 'somethin'"
   ]
  },
  {
   "cell_type": "code",
   "execution_count": 189,
   "metadata": {},
   "outputs": [
    {
     "output_type": "stream",
     "name": "stdout",
     "text": [
      "somethin\n"
     ]
    }
   ],
   "source": [
    "print('somethin')"
   ]
  },
  {
   "cell_type": "code",
   "execution_count": 192,
   "metadata": {},
   "outputs": [],
   "source": [
    "# return value is boolean. True or False\n",
    "> # greater \n",
    "< # less \n",
    "<= # less or equal to\n",
    "!= # not equal \n",
    "== #equal to\n",
    ">= # greater or equal"
   ]
  },
  {
   "cell_type": "code",
   "execution_count": null,
   "metadata": {},
   "outputs": [],
   "source": [
    "if a value is true:\n",
    "    'i want you to do this logix here'\n",
    "else:\n",
    "    'i want you to do this instead'"
   ]
  },
  {
   "cell_type": "code",
   "execution_count": 202,
   "metadata": {},
   "outputs": [
    {
     "output_type": "stream",
     "name": "stdout",
     "text": [
      "Our tutor is Sam\n"
     ]
    }
   ],
   "source": [
    "tutor = 'Sam'\n",
    "\n",
    "if (tutor == 'ade'):\n",
    "    print(f'Yes {tutor} is out tutor')\n",
    "else:\n",
    "    print(f'Our tutor is {tutor}')"
   ]
  },
  {
   "cell_type": "code",
   "execution_count": 204,
   "metadata": {},
   "outputs": [
    {
     "output_type": "stream",
     "name": "stdout",
     "text": [
      " A and B are of equal value\n"
     ]
    }
   ],
   "source": [
    "a= 12\n",
    "b = 12\n",
    "\n",
    "if a > b:\n",
    "    print('A is the maximum')\n",
    "elif a == b:\n",
    "    print(' A and B are of equal value')\n",
    "else:\n",
    "    print('B is higher than A')"
   ]
  },
  {
   "cell_type": "code",
   "execution_count": null,
   "metadata": {},
   "outputs": [],
   "source": [
    "# anyone below the age of 15 cannot enter the club\n",
    "# anyone above 18 can enter club but cant take alchool\n",
    "# 20yrs you can take alchool  on two conditions:\n",
    "    # * There undlying liver issues\n",
    "    # * You are pregnant\n",
    "# gate fee $20\n",
    "# vip = $70"
   ]
  },
  {
   "cell_type": "code",
   "execution_count": 205,
   "metadata": {},
   "outputs": [],
   "source": [
    "customer1 = {'name': 'mellisa', 'age': 15.2, 'gender': 'f', 'condition': False, 'prg': 'N/A', 'cash': 300}\n",
    "customer2 = {'name': 'smith', 'age': 44, 'gender': 'm', 'condition': True, 'prg': False}\n",
    "customer3 = {'name': 'john', 'age':18, 'gender': 'm', 'condition': True, 'prg': False}\n",
    "customer4 = {'name': 'luke', 'age': 22, 'gender': 'm', 'condition': False, 'prg': False}\n",
    "customer5 = {'name': 'sandra', 'age': 18, 'gender': 'f', 'condition': False, 'prg': True}"
   ]
  },
  {
   "cell_type": "code",
   "execution_count": 210,
   "metadata": {},
   "outputs": [
    {
     "output_type": "stream",
     "name": "stdout",
     "text": [
      "name\nage\ngender\ncondition\nprg\nname\nage\ngender\ncondition\nprg\nname\nage\ngender\ncondition\nprg\nname\nage\ngender\ncondition\nprg\nname\nage\ngender\ncondition\nprg\n"
     ]
    }
   ],
   "source": [
    "all_cust= [*customer1]\n",
    "all_cust\n",
    "my_cus = [customer1,customer2,customer3,customer4,customer5]\n",
    "\n",
    "for i in my_cus:\n",
    "    for x in all_cust:\n",
    "        print(x)\n",
    "    "
   ]
  },
  {
   "cell_type": "code",
   "execution_count": 214,
   "metadata": {},
   "outputs": [
    {
     "output_type": "execute_result",
     "data": {
      "text/plain": [
       "15.2"
      ]
     },
     "metadata": {},
     "execution_count": 214
    }
   ],
   "source": [
    "#  for i in range(1,6):\n",
    "#      print(f'customer{i}')\n",
    "# customer1.get('age')"
   ]
  },
  {
   "cell_type": "code",
   "execution_count": null,
   "metadata": {},
   "outputs": [],
   "source": []
  },
  {
   "cell_type": "code",
   "execution_count": null,
   "metadata": {},
   "outputs": [],
   "source": [
    "if ......\n",
    "\n",
    "elif Age >= 20:\n",
    "    if person has liver or pregnant:\n",
    "        print('please drink water')\n",
    "    else :\n",
    "        print('yor are the boss')\n",
    "\n",
    "else:\n",
    "    ...."
   ]
  },
  {
   "cell_type": "code",
   "execution_count": 207,
   "metadata": {},
   "outputs": [
    {
     "output_type": "stream",
     "name": "stdout",
     "text": [
      "True\nTrue\nFalse\nFalse\nFalse\nTrue\n"
     ]
    }
   ],
   "source": [
    "print(True or True)\n",
    "print(True or False)\n",
    "print(False or False)\n",
    "print(False and False)\n",
    "print(False and True)\n",
    "print(True and True)"
   ]
  },
  {
   "cell_type": "code",
   "execution_count": null,
   "metadata": {},
   "outputs": [],
   "source": []
  }
 ]
}
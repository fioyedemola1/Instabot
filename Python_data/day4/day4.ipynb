{
 "metadata": {
  "language_info": {
   "codemirror_mode": {
    "name": "ipython",
    "version": 3
   },
   "file_extension": ".py",
   "mimetype": "text/x-python",
   "name": "python",
   "nbconvert_exporter": "python",
   "pygments_lexer": "ipython3",
   "version": "3.9.1"
  },
  "orig_nbformat": 2,
  "kernelspec": {
   "name": "python391jvsc74a57bd07812ea015bdcee6f23a998adcdd2ef97c151c0c241b7b7070987d9313e41299d",
   "display_name": "Python 3.9.1 64-bit"
  },
  "metadata": {
   "interpreter": {
    "hash": "7812ea015bdcee6f23a998adcdd2ef97c151c0c241b7b7070987d9313e41299d"
   }
  }
 },
 "nbformat": 4,
 "nbformat_minor": 2,
 "cells": [
  {
   "cell_type": "code",
   "execution_count": 1,
   "metadata": {},
   "outputs": [],
   "source": [
    "#datatypes\n",
    "#operators\n",
    "#variable\n",
    "#conditionals"
   ]
  },
  {
   "cell_type": "code",
   "execution_count": null,
   "metadata": {},
   "outputs": [],
   "source": [
    "#assignment vs equality(logical operator)\n",
    "= vs =="
   ]
  },
  {
   "cell_type": "code",
   "execution_count": 3,
   "metadata": {},
   "outputs": [],
   "source": [
    "variable = 'value'"
   ]
  },
  {
   "cell_type": "code",
   "execution_count": 6,
   "metadata": {},
   "outputs": [
    {
     "output_type": "execute_result",
     "data": {
      "text/plain": [
       "False"
      ]
     },
     "metadata": {},
     "execution_count": 6
    }
   ],
   "source": [
    "variable == 'no'"
   ]
  },
  {
   "cell_type": "code",
   "execution_count": 11,
   "metadata": {},
   "outputs": [
    {
     "output_type": "stream",
     "name": "stderr",
     "text": [
      "<>:1: SyntaxWarning: \"is\" with a literal. Did you mean \"==\"?\n<>:1: SyntaxWarning: \"is\" with a literal. Did you mean \"==\"?\n<ipython-input-11-17187b2078c3>:1: SyntaxWarning: \"is\" with a literal. Did you mean \"==\"?\n  variable is 'value'\n"
     ]
    },
    {
     "output_type": "execute_result",
     "data": {
      "text/plain": [
       "True"
      ]
     },
     "metadata": {},
     "execution_count": 11
    }
   ],
   "source": [
    "variable is 'value'"
   ]
  },
  {
   "cell_type": "code",
   "execution_count": 13,
   "metadata": {},
   "outputs": [
    {
     "output_type": "stream",
     "name": "stdout",
     "text": [
      "140343272340912\n140343272340912\n"
     ]
    }
   ],
   "source": [
    "print(id('value'))\n",
    "print(id(variable))"
   ]
  },
  {
   "cell_type": "code",
   "execution_count": 14,
   "metadata": {},
   "outputs": [
    {
     "output_type": "stream",
     "name": "stdout",
     "text": [
      "140343272151344\n140343272151344\n"
     ]
    }
   ],
   "source": [
    "new_variable = 1\n",
    "new_variable == 1\n",
    "print(id(new_variable))\n",
    "print(id(1))"
   ]
  },
  {
   "cell_type": "code",
   "execution_count": 17,
   "metadata": {},
   "outputs": [
    {
     "output_type": "stream",
     "name": "stdout",
     "text": [
      "False\nTrue\n"
     ]
    }
   ],
   "source": [
    "new_list = []\n",
    "print(new_list is [])\n",
    "print(new_list == [])"
   ]
  },
  {
   "cell_type": "code",
   "execution_count": 18,
   "metadata": {},
   "outputs": [
    {
     "output_type": "stream",
     "name": "stdout",
     "text": [
      "140343374311360\n140343397977536\n"
     ]
    }
   ],
   "source": [
    "print(id(new_list))\n",
    "print(id([]))"
   ]
  },
  {
   "cell_type": "code",
   "execution_count": 23,
   "metadata": {},
   "outputs": [
    {
     "output_type": "stream",
     "name": "stdout",
     "text": [
      "yes\n",
      "<>:3: SyntaxWarning: \"is\" with a literal. Did you mean \"==\"?\n",
      "<>:3: SyntaxWarning: \"is\" with a literal. Did you mean \"==\"?\n",
      "<ipython-input-23-c1bde00dd1bc>:3: SyntaxWarning: \"is\" with a literal. Did you mean \"==\"?\n",
      "  if'string' is item:\n"
     ]
    }
   ],
   "source": [
    "item = 'string'\n",
    "\n",
    "if'string' is item:\n",
    "    print('yes')\n"
   ]
  },
  {
   "cell_type": "code",
   "execution_count": 45,
   "metadata": {},
   "outputs": [
    {
     "output_type": "stream",
     "name": "stdout",
     "text": [
      "some value\nsome value\n"
     ]
    }
   ],
   "source": [
    "new_item = 1\n",
    "\n",
    "for i in range(0,10):\n",
    "    if new_item is i: # ==\n",
    "        new_item = 'some value'\n",
    "        print(new_item)\n",
    "        break\n",
    "print(new_item)"
   ]
  },
  {
   "cell_type": "code",
   "execution_count": 36,
   "metadata": {},
   "outputs": [
    {
     "output_type": "stream",
     "name": "stdout",
     "text": [
      "140343272151344\n"
     ]
    }
   ],
   "source": [
    "print(id(new_item))\n",
    "print(id(1))"
   ]
  },
  {
   "cell_type": "code",
   "execution_count": 46,
   "metadata": {},
   "outputs": [
    {
     "output_type": "stream",
     "name": "stdout",
     "text": [
      "True\nTrue\nFalse\nFalse\nFalse\nTrue\n"
     ]
    }
   ],
   "source": [
    "print(True or True)\n",
    "print(True or False)\n",
    "print(False or False)\n",
    "print(False and False)\n",
    "print(False and True)\n",
    "print(True and True)\n",
    "#truthsy and Falsy"
   ]
  },
  {
   "cell_type": "code",
   "execution_count": 60,
   "metadata": {},
   "outputs": [
    {
     "output_type": "stream",
     "name": "stdout",
     "text": [
      "True\nTrue\nFalse\nFalse\nFalse\nFalse None\nTrue\nFalse\nTrue\nFalse\nTrue\n"
     ]
    }
   ],
   "source": [
    "print(bool(1))\n",
    "print(bool(-1))\n",
    "print(bool(0))\n",
    "print(bool([]))\n",
    "print(bool(''))\n",
    "print(bool(None), 'None')\n",
    "print(bool('yes'))\n",
    "print(bool(()))\n",
    "print(bool((1,23,4)))\n",
    "print(bool({}))\n",
    "print(bool({'key': 'value'}))\n"
   ]
  },
  {
   "cell_type": "code",
   "execution_count": 61,
   "metadata": {},
   "outputs": [
    {
     "output_type": "stream",
     "name": "stdout",
     "text": [
      "false\n"
     ]
    }
   ],
   "source": [
    "num = 1 # placeholders\n",
    "\n",
    "if num: # bool(num)\n",
    "    print('true')\n",
    "else:\n",
    "    print('false')"
   ]
  },
  {
   "cell_type": "code",
   "execution_count": null,
   "metadata": {},
   "outputs": [],
   "source": [
    "if condition is true:\n",
    "    do something\n",
    "else:\n",
    "    don another thing"
   ]
  },
  {
   "cell_type": "code",
   "execution_count": 58,
   "metadata": {},
   "outputs": [
    {
     "output_type": "execute_result",
     "data": {
      "text/plain": [
       "True"
      ]
     },
     "metadata": {},
     "execution_count": 58
    }
   ],
   "source": [
    "num = 1\n",
    "bool(num)"
   ]
  },
  {
   "cell_type": "code",
   "execution_count": null,
   "metadata": {},
   "outputs": [],
   "source": [
    "# name = sam\n",
    "\n",
    "# if name is 'ade':\n",
    "#     print('something')\n",
    "# elif name is 'another':\n",
    "#     print('another')\n",
    "# else:\n",
    "#     print(f'{name} is something')\n",
    "\n",
    "\n",
    "# if 'ade' is 'ade':\n",
    "#     print('something')\n",
    "# elif 'ade' is 'another':\n",
    "#     print('another')\n",
    "# else:\n",
    "#     print('ade is something')"
   ]
  },
  {
   "cell_type": "code",
   "execution_count": 64,
   "metadata": {},
   "outputs": [],
   "source": [
    "# name = []\n",
    "if not name:\n",
    "    #first item that must be added to an empty\n",
    "    name.append('i have place my data inside')\n",
    "else:\n",
    "    name.append('i have added another data')"
   ]
  },
  {
   "cell_type": "code",
   "execution_count": 65,
   "metadata": {},
   "outputs": [
    {
     "output_type": "execute_result",
     "data": {
      "text/plain": [
       "['i have place my data inside', 'i have added another data']"
      ]
     },
     "metadata": {},
     "execution_count": 65
    }
   ],
   "source": [
    "name"
   ]
  },
  {
   "cell_type": "code",
   "execution_count": 73,
   "metadata": {},
   "outputs": [],
   "source": [
    "# list  dict set and tupple\n",
    "#index\n",
    "new_list = [1,2,3,4,45,7,9]"
   ]
  },
  {
   "cell_type": "code",
   "execution_count": 74,
   "metadata": {},
   "outputs": [
    {
     "output_type": "stream",
     "name": "stdout",
     "text": [
      "[1, 2, 3]\n[3, 4, 45, 7, 9]\n[1, 3, 45, 9]\n"
     ]
    }
   ],
   "source": [
    "print(new_list[0:3]) #< ---slice\n",
    "print(new_list[2:]) #< ---slice\n",
    "print(new_list[0::2]) #< ---slice\n",
    "# [start:end:step]"
   ]
  },
  {
   "cell_type": "code",
   "execution_count": 76,
   "metadata": {},
   "outputs": [
    {
     "output_type": "execute_result",
     "data": {
      "text/plain": [
       "False"
      ]
     },
     "metadata": {},
     "execution_count": 76
    }
   ],
   "source": [
    "#iteration is very important\n",
    "29 in new_list"
   ]
  },
  {
   "cell_type": "code",
   "execution_count": 85,
   "metadata": {},
   "outputs": [
    {
     "output_type": "execute_result",
     "data": {
      "text/plain": [
       "True"
      ]
     },
     "metadata": {},
     "execution_count": 85
    }
   ],
   "source": [
    "# for i  in 1:\n",
    "#     pass\n",
    "# dir(1)\n",
    "hasattr('string','__iter__')\n",
    "hasattr(1,'__iter__')\n",
    "hasattr([],'__iter__')\n",
    "hasattr({},'__iter__')\n",
    "hasattr(set(),'__iter__')"
   ]
  },
  {
   "cell_type": "code",
   "execution_count": 81,
   "metadata": {},
   "outputs": [],
   "source": [
    "# for i in 'string':\n",
    "#     pass"
   ]
  },
  {
   "cell_type": "code",
   "execution_count": 86,
   "metadata": {},
   "outputs": [
    {
     "output_type": "stream",
     "name": "stdout",
     "text": [
      "<class 'dict'>\n"
     ]
    }
   ],
   "source": [
    "new= {} \n",
    "new= set()\n",
    "print(type(new)) #set or dict"
   ]
  },
  {
   "cell_type": "code",
   "execution_count": 89,
   "metadata": {},
   "outputs": [],
   "source": [
    "sett = {1:1,2:2,3:3,4:4,5:5}\n",
    "tupplee = (1,2,3,4,5)\n"
   ]
  },
  {
   "cell_type": "code",
   "execution_count": 90,
   "metadata": {},
   "outputs": [
    {
     "output_type": "stream",
     "name": "stdout",
     "text": [
      "<class 'dict'>\n"
     ]
    }
   ],
   "source": [
    "print(type(sett))"
   ]
  },
  {
   "cell_type": "code",
   "execution_count": null,
   "metadata": {},
   "outputs": [],
   "source": [
    "# Loops\n",
    "\n",
    "# #while and for loops\n",
    "# while condition is true:\n",
    "#     'do somethings'\n"
   ]
  },
  {
   "cell_type": "code",
   "execution_count": 96,
   "metadata": {
    "tags": []
   },
   "outputs": [
    {
     "output_type": "stream",
     "name": "stdout",
     "text": [
      "I am working 10 True\nI am working 9 True\nI am working 8 True\nI am working 7 True\nI am working 6 True\nI am working 5 True\nI am working 4 True\nI am working 3 True\nI am working 2 True\nI am working 1 True\n"
     ]
    }
   ],
   "source": [
    "counter = 10\n",
    "\n",
    "while counter:  # evalueted as true\n",
    "    print('I am working', counter, bool(counter))\n",
    "    counter = counter -1\n",
    "    # infinity \n",
    "\n",
    "    \n",
    "counter = 11\n",
    "\n",
    "while counter > 11:  # evalueted as true\n",
    "    counter = counter +1\n",
    "    print('counted', counter)\n",
    "    # infinity "
   ]
  },
  {
   "cell_type": "code",
   "execution_count": 113,
   "metadata": {},
   "outputs": [],
   "source": [
    "conditionn = 'value' if 1 +1 ==2 else 'its not possible'"
   ]
  },
  {
   "cell_type": "code",
   "execution_count": 114,
   "metadata": {},
   "outputs": [
    {
     "output_type": "execute_result",
     "data": {
      "text/plain": [
       "'value'"
      ]
     },
     "metadata": {},
     "execution_count": 114
    }
   ],
   "source": [
    "conditionn"
   ]
  },
  {
   "cell_type": "code",
   "execution_count": 112,
   "metadata": {},
   "outputs": [
    {
     "output_type": "stream",
     "name": "stdout",
     "text": [
      "yes  0\nyes  1\nyes  2\nyes  3\nyes  4\nyes  5\nyes  6\nyes  7\nyes  8\nyes  9\nyes  10\n"
     ]
    }
   ],
   "source": [
    "item = 0\n",
    "\n",
    "while item <= 10: #true\n",
    "    # item += 1 # item = 1\n",
    "    print('yes ', item)\n",
    "    item += 1 # item = 1\n",
    "\n",
    "\n",
    "    # item = item + 1"
   ]
  },
  {
   "cell_type": "code",
   "execution_count": 106,
   "metadata": {},
   "outputs": [
    {
     "output_type": "execute_result",
     "data": {
      "text/plain": [
       "1"
      ]
     },
     "metadata": {},
     "execution_count": 106
    }
   ],
   "source": [
    "# count from 1- 10\n",
    "number = 1\n",
    "print('even', number)\n",
    "print('odd', number)"
   ]
  },
  {
   "cell_type": "code",
   "execution_count": null,
   "metadata": {},
   "outputs": [],
   "source": [
    "while\n",
    "if \n",
    "%"
   ]
  },
  {
   "cell_type": "code",
   "execution_count": 108,
   "metadata": {},
   "outputs": [
    {
     "output_type": "stream",
     "name": "stdout",
     "text": [
      "odd 1\neven 2\nodd 3\n"
     ]
    },
    {
     "output_type": "execute_result",
     "data": {
      "text/plain": [
       "Ellipsis"
      ]
     },
     "metadata": {},
     "execution_count": 108
    }
   ],
   "source": [
    "print('odd', 1)\n",
    "print('even', 2)\n",
    "print('odd', 3)\n",
    "...\n",
    "# print(....)"
   ]
  },
  {
   "cell_type": "code",
   "execution_count": 131,
   "metadata": {
    "tags": []
   },
   "outputs": [
    {
     "output_type": "error",
     "ename": "IndentationError",
     "evalue": "unindent does not match any outer indentation level (<tokenize>, line 19)",
     "traceback": [
      "\u001b[0;36m  File \u001b[0;32m\"<tokenize>\"\u001b[0;36m, line \u001b[0;32m19\u001b[0m\n\u001b[0;31m    if counter % 2 == 0:\u001b[0m\n\u001b[0m    ^\u001b[0m\n\u001b[0;31mIndentationError\u001b[0m\u001b[0;31m:\u001b[0m unindent does not match any outer indentation level\n"
     ]
    }
   ],
   "source": [
    "counter  = 1\n",
    "\n",
    "# while counter:\n",
    "#     if counter  < 11:\n",
    "#         result =  'even' if counter % 2 == 0 else 'odd'\n",
    "#         print(result, counter)\n",
    "#         counter += 1\n",
    "\n",
    "\n",
    "# while counter < 11:\n",
    "#         result =  'even' if counter % 2 == 0 else 'odd'\n",
    "#         print(result, counter)\n",
    "#         counter += 1\n",
    "\n",
    "\n",
    "# while counter < 11:\n",
    "\n",
    "#   counter += 1\n",
    "#  if counter % 2 == 0:\n",
    "#      print ('even')\n",
    "#  else: \n",
    "#       print('dd') \n",
    "\n",
    "\n",
    "\n"
   ]
  },
  {
   "cell_type": "code",
   "execution_count": 156,
   "metadata": {},
   "outputs": [],
   "source": [
    "new_item = [1,2,3,4,5,5,67,7]"
   ]
  },
  {
   "cell_type": "code",
   "execution_count": 134,
   "metadata": {},
   "outputs": [
    {
     "output_type": "execute_result",
     "data": {
      "text/plain": [
       "True"
      ]
     },
     "metadata": {},
     "execution_count": 134
    }
   ],
   "source": [
    "hasattr(new_item, '__iter__')"
   ]
  },
  {
   "cell_type": "code",
   "execution_count": 152,
   "metadata": {},
   "outputs": [
    {
     "output_type": "stream",
     "name": "stdout",
     "text": [
      " i am working 0\n i am working 2\n i am working 4\n i am working 6\nold 6\n i am working 8\n i am working 10\n"
     ]
    }
   ],
   "source": [
    "# for a in new_item:\n",
    "#     print(a)\n",
    "\n",
    "for numbers in range(0,12,2):    #number generator (start, end, steps)\n",
    "    print(' i am working', numbers)\n",
    "    if numbers == 6:\n",
    "        print('old 6')\n",
    "        # break\n",
    "        continue\n",
    "    # print('i am 6')"
   ]
  },
  {
   "cell_type": "code",
   "execution_count": 167,
   "metadata": {},
   "outputs": [
    {
     "output_type": "stream",
     "name": "stdout",
     "text": [
      "the index 0 has a value of  1\nthe index 1 has a value of  2\nthe index 2 has a value of  3\nthe index 3 has a value of  4\nthe index 4 has a value of  5\nthe index 5 has a value of  5\nthe index 6 has a value of  67\nthe index 7 has a value of  7\n"
     ]
    }
   ],
   "source": [
    "# for i in new_item:\n",
    "#     if new_item.index(i) == 3:\n",
    "#         print('the index of value is', i )\n",
    "\n",
    "\n",
    "#enumerate\n",
    "for index,value in enumerate(new_item):\n",
    "    print(f'the index {index} has a value of  {value}')\n",
    "    # if value == 3\n",
    "    if index == \n"
   ]
  },
  {
   "cell_type": "code",
   "execution_count": 157,
   "metadata": {},
   "outputs": [
    {
     "output_type": "execute_result",
     "data": {
      "text/plain": [
       "2"
      ]
     },
     "metadata": {},
     "execution_count": 157
    }
   ],
   "source": [
    "new_item.index(3)"
   ]
  },
  {
   "cell_type": "code",
   "execution_count": 162,
   "metadata": {},
   "outputs": [],
   "source": [
    "a,b = (0, 1)"
   ]
  },
  {
   "cell_type": "code",
   "execution_count": 164,
   "metadata": {},
   "outputs": [
    {
     "output_type": "execute_result",
     "data": {
      "text/plain": [
       "1"
      ]
     },
     "metadata": {},
     "execution_count": 164
    }
   ],
   "source": [
    "b"
   ]
  },
  {
   "cell_type": "code",
   "execution_count": null,
   "metadata": {},
   "outputs": [],
   "source": []
  }
 ]
}
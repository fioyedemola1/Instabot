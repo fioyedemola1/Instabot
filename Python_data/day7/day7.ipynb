{
 "metadata": {
  "language_info": {
   "codemirror_mode": {
    "name": "ipython",
    "version": 3
   },
   "file_extension": ".py",
   "mimetype": "text/x-python",
   "name": "python",
   "nbconvert_exporter": "python",
   "pygments_lexer": "ipython3",
   "version": "3.9.1"
  },
  "orig_nbformat": 2,
  "kernelspec": {
   "name": "python391jvsc74a57bd0397704579725e15f5c7cb49fe5f0341eb7531c82d19f2c29d197e8b64ab5776b",
   "display_name": "Python 3.9.1 64-bit"
  },
  "metadata": {
   "interpreter": {
    "hash": "397704579725e15f5c7cb49fe5f0341eb7531c82d19f2c29d197e8b64ab5776b"
   }
  }
 },
 "nbformat": 4,
 "nbformat_minor": 2,
 "cells": [
  {
   "cell_type": "code",
   "execution_count": 17,
   "metadata": {},
   "outputs": [],
   "source": [
    "def func():\n",
    "    if True:\n",
    "      print('yes')\n",
    "    return None\n",
    "\n",
    "def func1(x,y,z=True):\n",
    "    print(x)\n",
    "    print(y)\n",
    "    print(z)\n",
    "\n"
   ]
  },
  {
   "cell_type": "code",
   "execution_count": 20,
   "metadata": {},
   "outputs": [],
   "source": [
    "#closures\n",
    "# decorators\n",
    "# anonymous functions/nameless\n"
   ]
  },
  {
   "cell_type": "code",
   "execution_count": 43,
   "metadata": {},
   "outputs": [
    {
     "output_type": "stream",
     "name": "stdout",
     "text": [
      "10\n"
     ]
    }
   ],
   "source": [
    "x = 0\n",
    "#---------\n",
    "def outer():\n",
    "    y = 10\n",
    "    def inner():\n",
    "        nonlocal y\n",
    "        \n",
    "        print(y)\n",
    "        return None\n",
    "    return inner()\n",
    "#-----------\n",
    "# print(y)\n",
    "# print(x)#<--- outside of the scope\n",
    "outer()\n"
   ]
  },
  {
   "cell_type": "code",
   "execution_count": 45,
   "metadata": {},
   "outputs": [],
   "source": [
    "def test1():\n",
    "    print('value') # <---\n",
    "    print('execute your function')\n",
    "    print('do something') # <---\n",
    "def test3():\n",
    "    print('value') # <---\n",
    "    print('execute your function')\n",
    "    print('do something') # <---\n",
    "def test2():\n",
    "    print('value') # <---\n",
    "    print('execute your function')\n",
    "    print('do something') # <---\n",
    "def test5():\n",
    "    print('value')\n",
    "    print('execute your function')\n",
    "    print('do something')\n"
   ]
  },
  {
   "cell_type": "code",
   "execution_count": 47,
   "metadata": {},
   "outputs": [
    {
     "output_type": "stream",
     "name": "stdout",
     "text": [
      "value\nexecute your function\ndo something\n"
     ]
    }
   ],
   "source": [
    "test2()"
   ]
  },
  {
   "cell_type": "code",
   "execution_count": 48,
   "metadata": {},
   "outputs": [],
   "source": [
    "# decorator\n",
    "def decorator(func):\n",
    "    def wrapper():\n",
    "        print('value') # check \n",
    "        func()\n",
    "        print('do something')\n",
    "    return wrapper()\n",
    "\n"
   ]
  },
  {
   "cell_type": "code",
   "execution_count": 51,
   "metadata": {},
   "outputs": [
    {
     "output_type": "stream",
     "name": "stdout",
     "text": [
      "value\nexecute your test1\ndo something\nvalue\nexecute your test1\ndo something\nvalue\nexecute your test1\ndo something\nvalue\nexecute your test1\ndo something\n"
     ]
    }
   ],
   "source": [
    "@decorator\n",
    "def test1():\n",
    "    print('execute your test1')\n",
    "    \n",
    "@decorator\n",
    "def test2():\n",
    "    print('execute your test1')\n",
    "    \n",
    "@decorator\n",
    "def test3():\n",
    "    print('execute your test1')\n",
    "    \n",
    "@decorator\n",
    "def test4():\n",
    "    print('execute your test1')\n",
    "    "
   ]
  },
  {
   "cell_type": "code",
   "execution_count": 54,
   "metadata": {},
   "outputs": [
    {
     "output_type": "stream",
     "name": "stdout",
     "text": [
      "i am an animal\n"
     ]
    }
   ],
   "source": [
    "class Animal1:\n",
    "\n",
    "    def printer(self):\n",
    "        print('i am an animal')\n",
    "a = Animal1()\n",
    "a.printer()"
   ]
  },
  {
   "cell_type": "code",
   "execution_count": 55,
   "metadata": {},
   "outputs": [
    {
     "output_type": "stream",
     "name": "stdout",
     "text": [
      "i am an animal\n"
     ]
    }
   ],
   "source": [
    "class Animal1:\n",
    "\n",
    "    @property\n",
    "    def printer(self):\n",
    "        print('i am an animal')\n",
    "a1 = Animal1()\n",
    "a1.printer"
   ]
  },
  {
   "cell_type": "code",
   "execution_count": 75,
   "metadata": {},
   "outputs": [
    {
     "output_type": "stream",
     "name": "stdout",
     "text": [
      "incorrect input\n"
     ]
    }
   ],
   "source": [
    "def non_string(func):\n",
    "    def wrapper(x,y):\n",
    "        if type(x) != int or type(y) != int:  #true\n",
    "            print('incorrect input')\n",
    "            return\n",
    "        a = func(x,y). #<-----\n",
    "        print(a)\n",
    "        print('do something')\n",
    "    return wrapper\n",
    "\n",
    "@non_string\n",
    "def intergers(x,y):\n",
    "    a = int(x) + int(y)\n",
    "    return a\n",
    "\n",
    "# val1 =input('please input a number: ')\n",
    "# val2 = input('please input a number: ')\n",
    "\n",
    "# intergers(val1,val2)\n",
    "# intergers(1,2)\n",
    "\n",
    "intergers('str',2)"
   ]
  },
  {
   "cell_type": "code",
   "execution_count": 97,
   "metadata": {},
   "outputs": [],
   "source": [
    "def auth(func):\n",
    "    def wrapper(name, joblevel):\n",
    "        permision = None\n",
    "        if joblevel == '3':\n",
    "            permision = 'need permission'\n",
    "            print(f'{permision} {name}')\n",
    "            return\n",
    "        elif joblevel == '1':\n",
    "            permision = 'unauthorised'\n",
    "            print(f'{permision} {name}')\n",
    "            return \n",
    "        else: \n",
    "            permision = 'welcome'\n",
    "        a = func(name, joblevel)\n",
    "        print(f'{permision} {name}')\n",
    "    return wrapper\n",
    "\n",
    "\n",
    "\n",
    "\n",
    "\n",
    "@auth\n",
    "def employee(name, joblevel):\n",
    "    return name\n",
    "    "
   ]
  },
  {
   "cell_type": "code",
   "execution_count": 98,
   "metadata": {},
   "outputs": [
    {
     "output_type": "stream",
     "name": "stdout",
     "text": [
      "welcome ade\nunauthorised sam\nneed permission bill\n"
     ]
    }
   ],
   "source": [
    "employee('ade', '8') #welcome\n",
    "employee('sam', '1') # unauthorised\n",
    "employee('bill', '3') # need permision\n",
    "\n"
   ]
  },
  {
   "cell_type": "code",
   "execution_count": 102,
   "metadata": {},
   "outputs": [],
   "source": [
    "def func():\n",
    "    print('hello world')\n",
    "\n",
    "\n",
    "my_func = lambda: print('hello world') #anonymous"
   ]
  },
  {
   "cell_type": "code",
   "execution_count": 105,
   "metadata": {},
   "outputs": [
    {
     "output_type": "stream",
     "name": "stdout",
     "text": [
      "hello world\nhello world\n"
     ]
    }
   ],
   "source": [
    "func()\n",
    "my_func()"
   ]
  },
  {
   "cell_type": "code",
   "execution_count": 107,
   "metadata": {},
   "outputs": [],
   "source": [
    "def func1(x):\n",
    "    return x\n",
    "\n",
    "def func2():\n",
    "    return 'yes sir'"
   ]
  },
  {
   "cell_type": "code",
   "execution_count": 116,
   "metadata": {},
   "outputs": [
    {
     "output_type": "execute_result",
     "data": {
      "text/plain": [
       "'yes sir'"
      ]
     },
     "metadata": {},
     "execution_count": 116
    }
   ],
   "source": [
    "func1(func2())"
   ]
  },
  {
   "cell_type": "code",
   "execution_count": 114,
   "metadata": {},
   "outputs": [],
   "source": [
    "def func3():\n",
    "    return lambda : print('yes sir')"
   ]
  },
  {
   "cell_type": "code",
   "execution_count": 115,
   "metadata": {},
   "outputs": [
    {
     "output_type": "stream",
     "name": "stdout",
     "text": [
      "yes sir\n"
     ]
    }
   ],
   "source": [
    "func3()()"
   ]
  },
  {
   "cell_type": "code",
   "execution_count": 123,
   "metadata": {},
   "outputs": [],
   "source": [
    "def func(x):\n",
    "    print(x)\n",
    "\n",
    "anon = lambda y: y * 2"
   ]
  },
  {
   "cell_type": "code",
   "execution_count": 124,
   "metadata": {},
   "outputs": [
    {
     "output_type": "stream",
     "name": "stdout",
     "text": [
      "ok\n"
     ]
    },
    {
     "output_type": "execute_result",
     "data": {
      "text/plain": [
       "6"
      ]
     },
     "metadata": {},
     "execution_count": 124
    }
   ],
   "source": [
    "func('ok')\n",
    "anon(3)"
   ]
  },
  {
   "cell_type": "code",
   "execution_count": 1,
   "metadata": {},
   "outputs": [
    {
     "output_type": "execute_result",
     "data": {
      "text/plain": [
       "5"
      ]
     },
     "metadata": {},
     "execution_count": 1
    }
   ],
   "source": [
    "a = ('hello')\n",
    "len(a)"
   ]
  },
  {
   "cell_type": "code",
   "execution_count": null,
   "metadata": {},
   "outputs": [],
   "source": []
  }
 ]
}